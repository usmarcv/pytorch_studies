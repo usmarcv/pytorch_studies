{
  "nbformat": 4,
  "nbformat_minor": 0,
  "metadata": {
    "colab": {
      "provenance": []
    },
    "kernelspec": {
      "name": "python3",
      "display_name": "Python 3"
    },
    "language_info": {
      "name": "python"
    }
  },
  "cells": [
    {
      "cell_type": "markdown",
      "source": [
        "# Projeto 4- Classificação Binária Breast Cancer - classificar somente um registro e salvar o classificador"
      ],
      "metadata": {
        "id": "YxKt15QFaaa3"
      }
    },
    {
      "cell_type": "markdown",
      "source": [
        "## Importação de bibliotecas"
      ],
      "metadata": {
        "id": "r38GXt8KagDA"
      }
    },
    {
      "cell_type": "code",
      "source": [
        "import pandas as pd\n",
        "from sklearn.model_selection import train_test_split\n",
        "import numpy as np\n",
        "import seaborn as sns\n",
        "from sklearn.metrics import confusion_matrix, accuracy_score\n",
        "import torch\n",
        "import torch.nn as nn\n",
        "from google import colab as cl\n",
        "\n",
        "torch.__version__"
      ],
      "metadata": {
        "colab": {
          "base_uri": "https://localhost:8080/",
          "height": 36
        },
        "id": "ywJJUNtnai72",
        "outputId": "3367cb29-15c7-49d3-ff55-470e2f7f521c"
      },
      "execution_count": 1,
      "outputs": [
        {
          "output_type": "execute_result",
          "data": {
            "text/plain": [
              "'2.0.1+cu118'"
            ],
            "application/vnd.google.colaboratory.intrinsic+json": {
              "type": "string"
            }
          },
          "metadata": {},
          "execution_count": 1
        }
      ]
    },
    {
      "cell_type": "markdown",
      "metadata": {
        "id": "a_gLbPXAaCHd"
      },
      "source": [
        "## Base de dados"
      ]
    },
    {
      "cell_type": "code",
      "execution_count": 2,
      "metadata": {
        "colab": {
          "base_uri": "https://localhost:8080/"
        },
        "id": "5NW1ocTRaEcT",
        "outputId": "265d1dbf-423d-42e0-d7d8-08f4eee59526"
      },
      "outputs": [
        {
          "output_type": "execute_result",
          "data": {
            "text/plain": [
              "<torch._C.Generator at 0x7ce4e5bd2b70>"
            ]
          },
          "metadata": {},
          "execution_count": 2
        }
      ],
      "source": [
        "np.random.seed(123)\n",
        "torch.manual_seed(123)"
      ]
    },
    {
      "cell_type": "code",
      "execution_count": 3,
      "metadata": {
        "colab": {
          "base_uri": "https://localhost:8080/",
          "height": 108
        },
        "id": "nv7MYedLaM0T",
        "outputId": "7c97ed2a-de8c-4930-db07-654a06f61522"
      },
      "outputs": [
        {
          "output_type": "display_data",
          "data": {
            "text/plain": [
              "<IPython.core.display.HTML object>"
            ],
            "text/html": [
              "\n",
              "     <input type=\"file\" id=\"files-ae967a20-1325-4bd6-8429-5b5185fdac02\" name=\"files[]\" multiple disabled\n",
              "        style=\"border:none\" />\n",
              "     <output id=\"result-ae967a20-1325-4bd6-8429-5b5185fdac02\">\n",
              "      Upload widget is only available when the cell has been executed in the\n",
              "      current browser session. Please rerun this cell to enable.\n",
              "      </output>\n",
              "      <script>// Copyright 2017 Google LLC\n",
              "//\n",
              "// Licensed under the Apache License, Version 2.0 (the \"License\");\n",
              "// you may not use this file except in compliance with the License.\n",
              "// You may obtain a copy of the License at\n",
              "//\n",
              "//      http://www.apache.org/licenses/LICENSE-2.0\n",
              "//\n",
              "// Unless required by applicable law or agreed to in writing, software\n",
              "// distributed under the License is distributed on an \"AS IS\" BASIS,\n",
              "// WITHOUT WARRANTIES OR CONDITIONS OF ANY KIND, either express or implied.\n",
              "// See the License for the specific language governing permissions and\n",
              "// limitations under the License.\n",
              "\n",
              "/**\n",
              " * @fileoverview Helpers for google.colab Python module.\n",
              " */\n",
              "(function(scope) {\n",
              "function span(text, styleAttributes = {}) {\n",
              "  const element = document.createElement('span');\n",
              "  element.textContent = text;\n",
              "  for (const key of Object.keys(styleAttributes)) {\n",
              "    element.style[key] = styleAttributes[key];\n",
              "  }\n",
              "  return element;\n",
              "}\n",
              "\n",
              "// Max number of bytes which will be uploaded at a time.\n",
              "const MAX_PAYLOAD_SIZE = 100 * 1024;\n",
              "\n",
              "function _uploadFiles(inputId, outputId) {\n",
              "  const steps = uploadFilesStep(inputId, outputId);\n",
              "  const outputElement = document.getElementById(outputId);\n",
              "  // Cache steps on the outputElement to make it available for the next call\n",
              "  // to uploadFilesContinue from Python.\n",
              "  outputElement.steps = steps;\n",
              "\n",
              "  return _uploadFilesContinue(outputId);\n",
              "}\n",
              "\n",
              "// This is roughly an async generator (not supported in the browser yet),\n",
              "// where there are multiple asynchronous steps and the Python side is going\n",
              "// to poll for completion of each step.\n",
              "// This uses a Promise to block the python side on completion of each step,\n",
              "// then passes the result of the previous step as the input to the next step.\n",
              "function _uploadFilesContinue(outputId) {\n",
              "  const outputElement = document.getElementById(outputId);\n",
              "  const steps = outputElement.steps;\n",
              "\n",
              "  const next = steps.next(outputElement.lastPromiseValue);\n",
              "  return Promise.resolve(next.value.promise).then((value) => {\n",
              "    // Cache the last promise value to make it available to the next\n",
              "    // step of the generator.\n",
              "    outputElement.lastPromiseValue = value;\n",
              "    return next.value.response;\n",
              "  });\n",
              "}\n",
              "\n",
              "/**\n",
              " * Generator function which is called between each async step of the upload\n",
              " * process.\n",
              " * @param {string} inputId Element ID of the input file picker element.\n",
              " * @param {string} outputId Element ID of the output display.\n",
              " * @return {!Iterable<!Object>} Iterable of next steps.\n",
              " */\n",
              "function* uploadFilesStep(inputId, outputId) {\n",
              "  const inputElement = document.getElementById(inputId);\n",
              "  inputElement.disabled = false;\n",
              "\n",
              "  const outputElement = document.getElementById(outputId);\n",
              "  outputElement.innerHTML = '';\n",
              "\n",
              "  const pickedPromise = new Promise((resolve) => {\n",
              "    inputElement.addEventListener('change', (e) => {\n",
              "      resolve(e.target.files);\n",
              "    });\n",
              "  });\n",
              "\n",
              "  const cancel = document.createElement('button');\n",
              "  inputElement.parentElement.appendChild(cancel);\n",
              "  cancel.textContent = 'Cancel upload';\n",
              "  const cancelPromise = new Promise((resolve) => {\n",
              "    cancel.onclick = () => {\n",
              "      resolve(null);\n",
              "    };\n",
              "  });\n",
              "\n",
              "  // Wait for the user to pick the files.\n",
              "  const files = yield {\n",
              "    promise: Promise.race([pickedPromise, cancelPromise]),\n",
              "    response: {\n",
              "      action: 'starting',\n",
              "    }\n",
              "  };\n",
              "\n",
              "  cancel.remove();\n",
              "\n",
              "  // Disable the input element since further picks are not allowed.\n",
              "  inputElement.disabled = true;\n",
              "\n",
              "  if (!files) {\n",
              "    return {\n",
              "      response: {\n",
              "        action: 'complete',\n",
              "      }\n",
              "    };\n",
              "  }\n",
              "\n",
              "  for (const file of files) {\n",
              "    const li = document.createElement('li');\n",
              "    li.append(span(file.name, {fontWeight: 'bold'}));\n",
              "    li.append(span(\n",
              "        `(${file.type || 'n/a'}) - ${file.size} bytes, ` +\n",
              "        `last modified: ${\n",
              "            file.lastModifiedDate ? file.lastModifiedDate.toLocaleDateString() :\n",
              "                                    'n/a'} - `));\n",
              "    const percent = span('0% done');\n",
              "    li.appendChild(percent);\n",
              "\n",
              "    outputElement.appendChild(li);\n",
              "\n",
              "    const fileDataPromise = new Promise((resolve) => {\n",
              "      const reader = new FileReader();\n",
              "      reader.onload = (e) => {\n",
              "        resolve(e.target.result);\n",
              "      };\n",
              "      reader.readAsArrayBuffer(file);\n",
              "    });\n",
              "    // Wait for the data to be ready.\n",
              "    let fileData = yield {\n",
              "      promise: fileDataPromise,\n",
              "      response: {\n",
              "        action: 'continue',\n",
              "      }\n",
              "    };\n",
              "\n",
              "    // Use a chunked sending to avoid message size limits. See b/62115660.\n",
              "    let position = 0;\n",
              "    do {\n",
              "      const length = Math.min(fileData.byteLength - position, MAX_PAYLOAD_SIZE);\n",
              "      const chunk = new Uint8Array(fileData, position, length);\n",
              "      position += length;\n",
              "\n",
              "      const base64 = btoa(String.fromCharCode.apply(null, chunk));\n",
              "      yield {\n",
              "        response: {\n",
              "          action: 'append',\n",
              "          file: file.name,\n",
              "          data: base64,\n",
              "        },\n",
              "      };\n",
              "\n",
              "      let percentDone = fileData.byteLength === 0 ?\n",
              "          100 :\n",
              "          Math.round((position / fileData.byteLength) * 100);\n",
              "      percent.textContent = `${percentDone}% done`;\n",
              "\n",
              "    } while (position < fileData.byteLength);\n",
              "  }\n",
              "\n",
              "  // All done.\n",
              "  yield {\n",
              "    response: {\n",
              "      action: 'complete',\n",
              "    }\n",
              "  };\n",
              "}\n",
              "\n",
              "scope.google = scope.google || {};\n",
              "scope.google.colab = scope.google.colab || {};\n",
              "scope.google.colab._files = {\n",
              "  _uploadFiles,\n",
              "  _uploadFilesContinue,\n",
              "};\n",
              "})(self);\n",
              "</script> "
            ]
          },
          "metadata": {}
        },
        {
          "output_type": "stream",
          "name": "stdout",
          "text": [
            "Saving saidas_breast.csv to saidas_breast.csv\n",
            "Saving entradas_breast.csv to entradas_breast.csv\n"
          ]
        }
      ],
      "source": [
        "file_upload = cl.files.upload() #importando arquivo para computador\n",
        "\n",
        "previsores = pd.read_csv('/content/entradas_breast.csv')\n",
        "classe = pd.read_csv('/content/saidas_breast.csv')"
      ]
    },
    {
      "cell_type": "code",
      "source": [
        "previsores = torch.tensor(np.array(previsores), dtype=torch.float)\n",
        "classe = torch.tensor(np.array(classe), dtype=torch.float)"
      ],
      "metadata": {
        "id": "1F6hvvB8bFXT"
      },
      "execution_count": 4,
      "outputs": []
    },
    {
      "cell_type": "markdown",
      "source": [
        "## Transformação dos dados para tensores"
      ],
      "metadata": {
        "id": "cy2gWmMobSw0"
      }
    },
    {
      "cell_type": "code",
      "source": [
        "train_loader = torch.utils.data.DataLoader(torch.utils.data.TensorDataset(previsores, classe), batch_size=10, shuffle=True)"
      ],
      "metadata": {
        "id": "Cuyec4mybW_2"
      },
      "execution_count": 5,
      "outputs": []
    },
    {
      "cell_type": "markdown",
      "source": [
        "## Construção do modelo"
      ],
      "metadata": {
        "id": "sOeUSaCKblCl"
      }
    },
    {
      "cell_type": "code",
      "source": [
        "class classificador_torch(nn.Module):\n",
        "\n",
        "  def __init__(self):\n",
        "    super().__init__()\n",
        "\n",
        "    #30 -> 16 -> 16 -> 1\n",
        "    self.dense0 = nn.Linear(in_features=30, out_features=8)\n",
        "    torch.nn.init.normal_(self.dense0.weight, mean=0.0, std=0.05)\n",
        "\n",
        "    self.dense1 = nn.Linear(in_features=8, out_features=8)\n",
        "    torch.nn.init.normal_(self.dense1.weight, mean=0.0, std=0.05)\n",
        "\n",
        "    self.dense2 = nn.Linear(in_features=8, out_features=1)\n",
        "    self.activation = nn.ReLU()\n",
        "    self.dropout = nn.Dropout(0.2)\n",
        "    self.output = nn.Sigmoid()\n",
        "\n",
        "\n",
        "  def forward(self, X):\n",
        "    X = self.dense0(X)\n",
        "    X = self.activation(X)\n",
        "    X = self.dropout(X)\n",
        "\n",
        "    X = self.dense1(X)\n",
        "    X = self.activation(X)\n",
        "    X = self.dropout(X)\n",
        "\n",
        "    X = self.dense2(X)\n",
        "    X = self.output(X)\n",
        "\n",
        "    return X"
      ],
      "metadata": {
        "id": "25uauq2ubndE"
      },
      "execution_count": 6,
      "outputs": []
    },
    {
      "cell_type": "code",
      "source": [
        "classificador = classificador_torch()"
      ],
      "metadata": {
        "id": "opkzAWJlcoln"
      },
      "execution_count": 7,
      "outputs": []
    },
    {
      "cell_type": "code",
      "source": [
        "criterion = nn.BCELoss()\n",
        "optimizer = torch.optim.Adam(classificador.parameters(), lr=0.001, weight_decay=0.0001)"
      ],
      "metadata": {
        "id": "bdPAmFRTcrXi"
      },
      "execution_count": 8,
      "outputs": []
    },
    {
      "cell_type": "markdown",
      "source": [
        "## Treinamento do modelo"
      ],
      "metadata": {
        "id": "xriKYTo6c3rd"
      }
    },
    {
      "cell_type": "code",
      "source": [
        "for epoch in range(100):\n",
        "  running_loss = 0. #float\n",
        "  for data in train_loader:\n",
        "\n",
        "    inputs, labels = data\n",
        "\n",
        "    optimizer.zero_grad() #zerando gradiente\n",
        "\n",
        "    outputs = classificador(inputs)\n",
        "\n",
        "    loss = criterion(outputs, labels) #cálculo do erro\n",
        "\n",
        "    loss.backward() #backpropagation\n",
        "\n",
        "    optimizer.step() #atualizando pesos\n",
        "\n",
        "    running_loss += loss.item() # somando loss\n",
        "\n",
        "  print('Epoch %3d: Loss %.5f' % (epoch + 1, running_loss/len(train_loader) ))\n",
        "\n"
      ],
      "metadata": {
        "colab": {
          "base_uri": "https://localhost:8080/"
        },
        "id": "cRNmG9A1c6cy",
        "outputId": "b0537dc0-7f05-42b7-d817-6a783bc081f2"
      },
      "execution_count": 9,
      "outputs": [
        {
          "output_type": "stream",
          "name": "stdout",
          "text": [
            "Epoch   1: Loss 1.65405\n",
            "Epoch   2: Loss 0.83266\n",
            "Epoch   3: Loss 0.68309\n",
            "Epoch   4: Loss 0.61071\n",
            "Epoch   5: Loss 0.58727\n",
            "Epoch   6: Loss 0.59212\n",
            "Epoch   7: Loss 0.54197\n",
            "Epoch   8: Loss 0.52175\n",
            "Epoch   9: Loss 0.51248\n",
            "Epoch  10: Loss 0.51385\n",
            "Epoch  11: Loss 0.50309\n",
            "Epoch  12: Loss 0.47485\n",
            "Epoch  13: Loss 0.47657\n",
            "Epoch  14: Loss 0.45629\n",
            "Epoch  15: Loss 0.44756\n",
            "Epoch  16: Loss 0.44154\n",
            "Epoch  17: Loss 0.41747\n",
            "Epoch  18: Loss 0.39531\n",
            "Epoch  19: Loss 0.42316\n",
            "Epoch  20: Loss 0.37898\n",
            "Epoch  21: Loss 0.40490\n",
            "Epoch  22: Loss 0.38421\n",
            "Epoch  23: Loss 0.38859\n",
            "Epoch  24: Loss 0.39575\n",
            "Epoch  25: Loss 0.37081\n",
            "Epoch  26: Loss 0.37289\n",
            "Epoch  27: Loss 0.36106\n",
            "Epoch  28: Loss 0.37193\n",
            "Epoch  29: Loss 0.37447\n",
            "Epoch  30: Loss 0.35007\n",
            "Epoch  31: Loss 0.36657\n",
            "Epoch  32: Loss 0.31675\n",
            "Epoch  33: Loss 0.32431\n",
            "Epoch  34: Loss 0.33630\n",
            "Epoch  35: Loss 0.36814\n",
            "Epoch  36: Loss 0.35728\n",
            "Epoch  37: Loss 0.33705\n",
            "Epoch  38: Loss 0.31823\n",
            "Epoch  39: Loss 0.32361\n",
            "Epoch  40: Loss 0.33200\n",
            "Epoch  41: Loss 0.32638\n",
            "Epoch  42: Loss 0.32918\n",
            "Epoch  43: Loss 0.31377\n",
            "Epoch  44: Loss 0.32886\n",
            "Epoch  45: Loss 0.33175\n",
            "Epoch  46: Loss 0.33229\n",
            "Epoch  47: Loss 0.32545\n",
            "Epoch  48: Loss 0.29924\n",
            "Epoch  49: Loss 0.32201\n",
            "Epoch  50: Loss 0.32195\n",
            "Epoch  51: Loss 0.31464\n",
            "Epoch  52: Loss 0.33759\n",
            "Epoch  53: Loss 0.28933\n",
            "Epoch  54: Loss 0.30102\n",
            "Epoch  55: Loss 0.31426\n",
            "Epoch  56: Loss 0.30769\n",
            "Epoch  57: Loss 0.32158\n",
            "Epoch  58: Loss 0.30409\n",
            "Epoch  59: Loss 0.32977\n",
            "Epoch  60: Loss 0.29156\n",
            "Epoch  61: Loss 0.29801\n",
            "Epoch  62: Loss 0.29097\n",
            "Epoch  63: Loss 0.33532\n",
            "Epoch  64: Loss 0.29227\n",
            "Epoch  65: Loss 0.30109\n",
            "Epoch  66: Loss 0.32523\n",
            "Epoch  67: Loss 0.28860\n",
            "Epoch  68: Loss 0.32231\n",
            "Epoch  69: Loss 0.29719\n",
            "Epoch  70: Loss 0.28446\n",
            "Epoch  71: Loss 0.30470\n",
            "Epoch  72: Loss 0.30474\n",
            "Epoch  73: Loss 0.28319\n",
            "Epoch  74: Loss 0.28227\n",
            "Epoch  75: Loss 0.27883\n",
            "Epoch  76: Loss 0.28966\n",
            "Epoch  77: Loss 0.29302\n",
            "Epoch  78: Loss 0.29545\n",
            "Epoch  79: Loss 0.27788\n",
            "Epoch  80: Loss 0.26615\n",
            "Epoch  81: Loss 0.32046\n",
            "Epoch  82: Loss 0.28308\n",
            "Epoch  83: Loss 0.28421\n",
            "Epoch  84: Loss 0.28691\n",
            "Epoch  85: Loss 0.26893\n",
            "Epoch  86: Loss 0.27534\n",
            "Epoch  87: Loss 0.25947\n",
            "Epoch  88: Loss 0.28479\n",
            "Epoch  89: Loss 0.27459\n",
            "Epoch  90: Loss 0.29052\n",
            "Epoch  91: Loss 0.28941\n",
            "Epoch  92: Loss 0.24735\n",
            "Epoch  93: Loss 0.28302\n",
            "Epoch  94: Loss 0.26729\n",
            "Epoch  95: Loss 0.27760\n",
            "Epoch  96: Loss 0.25613\n",
            "Epoch  97: Loss 0.28534\n",
            "Epoch  98: Loss 0.26874\n",
            "Epoch  99: Loss 0.26170\n",
            "Epoch 100: Loss 0.26742\n"
          ]
        }
      ]
    },
    {
      "cell_type": "markdown",
      "source": [
        "## Classificar somente um registro"
      ],
      "metadata": {
        "id": "mmWJW9Q-egFc"
      }
    },
    {
      "cell_type": "code",
      "source": [
        "novo = torch.tensor([[15.80, 8.34, 118, 900, 0.10, 0.26, 0.08, 0.134, 0.178,\n",
        "                  0.20, 0.05, 1098, 0.87, 4500, 145.2, 0.005, 0.04, 0.05, 0.015,\n",
        "                  0.03, 0.007, 23.15, 16.64, 178.5, 2018, 0.14, 0.185,\n",
        "                  0.84, 158, 0.363]], dtype = torch.float)"
      ],
      "metadata": {
        "id": "dcIRyD5GeS86"
      },
      "execution_count": 10,
      "outputs": []
    },
    {
      "cell_type": "code",
      "source": [
        "classificador.eval()"
      ],
      "metadata": {
        "colab": {
          "base_uri": "https://localhost:8080/"
        },
        "id": "ApXb43PhenU6",
        "outputId": "e62d520c-b50e-483a-97d7-46fcc318bb00"
      },
      "execution_count": 11,
      "outputs": [
        {
          "output_type": "execute_result",
          "data": {
            "text/plain": [
              "classificador_torch(\n",
              "  (dense0): Linear(in_features=30, out_features=8, bias=True)\n",
              "  (dense1): Linear(in_features=8, out_features=8, bias=True)\n",
              "  (dense2): Linear(in_features=8, out_features=1, bias=True)\n",
              "  (activation): ReLU()\n",
              "  (dropout): Dropout(p=0.2, inplace=False)\n",
              "  (output): Sigmoid()\n",
              ")"
            ]
          },
          "metadata": {},
          "execution_count": 11
        }
      ]
    },
    {
      "cell_type": "code",
      "source": [
        "previsao = classificador(novo)"
      ],
      "metadata": {
        "id": "1l5Us5bMesap"
      },
      "execution_count": 12,
      "outputs": []
    },
    {
      "cell_type": "code",
      "source": [
        "previsao"
      ],
      "metadata": {
        "colab": {
          "base_uri": "https://localhost:8080/"
        },
        "id": "xvqiU67Bevor",
        "outputId": "08a4128f-259c-4006-a708-f7b1eea5cb5b"
      },
      "execution_count": 13,
      "outputs": [
        {
          "output_type": "execute_result",
          "data": {
            "text/plain": [
              "tensor([[1.]], grad_fn=<SigmoidBackward0>)"
            ]
          },
          "metadata": {},
          "execution_count": 13
        }
      ]
    },
    {
      "cell_type": "code",
      "source": [
        "previsao = previsao.detach() #buscando os valores do tensor"
      ],
      "metadata": {
        "id": "KCs5RGOAeyPW"
      },
      "execution_count": 14,
      "outputs": []
    },
    {
      "cell_type": "code",
      "source": [
        "previsao"
      ],
      "metadata": {
        "colab": {
          "base_uri": "https://localhost:8080/"
        },
        "id": "tJHHh3jYe1xY",
        "outputId": "ea1f9980-7dd3-47fc-9021-bd26135c08df"
      },
      "execution_count": 15,
      "outputs": [
        {
          "output_type": "execute_result",
          "data": {
            "text/plain": [
              "tensor([[1.]])"
            ]
          },
          "metadata": {},
          "execution_count": 15
        }
      ]
    },
    {
      "cell_type": "code",
      "source": [
        "previsao = previsao.numpy()"
      ],
      "metadata": {
        "id": "F-PAk6xMe720"
      },
      "execution_count": 16,
      "outputs": []
    },
    {
      "cell_type": "code",
      "source": [
        "type(previsao)"
      ],
      "metadata": {
        "colab": {
          "base_uri": "https://localhost:8080/"
        },
        "id": "HNc1K7rse_7J",
        "outputId": "f7b7dbff-256a-4ba0-fcf0-032cfa5da8ea"
      },
      "execution_count": 17,
      "outputs": [
        {
          "output_type": "execute_result",
          "data": {
            "text/plain": [
              "numpy.ndarray"
            ]
          },
          "metadata": {},
          "execution_count": 17
        }
      ]
    },
    {
      "cell_type": "code",
      "source": [
        "previsao"
      ],
      "metadata": {
        "colab": {
          "base_uri": "https://localhost:8080/"
        },
        "id": "Pq_Al67LfDEf",
        "outputId": "89a66dc0-3b89-4051-d97a-ac740ba76201"
      },
      "execution_count": 18,
      "outputs": [
        {
          "output_type": "execute_result",
          "data": {
            "text/plain": [
              "array([[1.]], dtype=float32)"
            ]
          },
          "metadata": {},
          "execution_count": 18
        }
      ]
    },
    {
      "cell_type": "code",
      "source": [
        "previsao = (previsao > 0.5)\n",
        "previsao"
      ],
      "metadata": {
        "colab": {
          "base_uri": "https://localhost:8080/"
        },
        "id": "iv76iXWOfHHr",
        "outputId": "c23d3d49-c519-42d4-e04d-171979bbb3ce"
      },
      "execution_count": 19,
      "outputs": [
        {
          "output_type": "execute_result",
          "data": {
            "text/plain": [
              "array([[ True]])"
            ]
          },
          "metadata": {},
          "execution_count": 19
        }
      ]
    },
    {
      "cell_type": "markdown",
      "source": [
        "## Salvar o classificador"
      ],
      "metadata": {
        "id": "a_60efmffPca"
      }
    },
    {
      "cell_type": "code",
      "source": [
        "classificador.state_dict()"
      ],
      "metadata": {
        "colab": {
          "base_uri": "https://localhost:8080/"
        },
        "id": "YF6CAMP2fSGf",
        "outputId": "e648e792-1464-4ac6-debf-9c100e065109"
      },
      "execution_count": 20,
      "outputs": [
        {
          "output_type": "execute_result",
          "data": {
            "text/plain": [
              "OrderedDict([('dense0.weight',\n",
              "              tensor([[-6.3329e-01, -6.4088e-03, -3.8681e-01, -1.0687e-01,  9.4179e-02,\n",
              "                       -2.8071e-02,  5.8217e-02, -5.5828e-02,  1.4919e-02,  5.5338e-02,\n",
              "                        8.5171e-03, -1.0727e-03,  3.1089e-03, -1.7085e-02,  3.1640e-02,\n",
              "                        2.3500e-01, -3.9340e-01, -1.7852e-01, -6.7033e-02,  5.4838e-01,\n",
              "                       -4.7472e-01,  2.4388e-02, -3.2421e-01,  1.8188e-01,  1.4345e-02,\n",
              "                        3.0411e-02,  1.2222e-02,  4.2423e-02,  1.6629e-02,  6.2451e-01],\n",
              "                      [ 9.6147e-02,  8.9823e-03,  6.2657e-02, -2.7833e-02,  2.5520e-02,\n",
              "                       -1.4683e-02,  8.4852e-09, -5.5642e-02, -4.3206e-02,  2.9459e-04,\n",
              "                        3.3087e-02,  1.5457e-03, -3.6564e-02,  7.3219e-02, -9.4868e-11,\n",
              "                       -5.2539e-07,  3.7381e-03,  2.0600e-09,  6.6002e-09,  2.5737e-10,\n",
              "                       -7.0341e-02,  3.3297e-02, -3.6295e-02, -3.3981e-02, -7.6689e-02,\n",
              "                       -2.0092e-06,  4.7069e-02, -4.0303e-02,  2.6344e-02,  9.2793e-04],\n",
              "                      [ 4.1181e-02, -8.6806e-02, -3.9069e-02, -8.3872e-02, -1.2510e-02,\n",
              "                       -1.7219e-02,  3.2185e-03,  1.1052e-02, -3.7319e-03,  1.7155e-03,\n",
              "                       -9.8149e-04, -4.3878e-02,  8.7967e-03,  9.8443e-02,  1.3644e-11,\n",
              "                        5.7516e-11, -1.3302e-02, -3.3446e-11, -1.6855e-02,  4.5200e-11,\n",
              "                       -4.5982e-03, -1.1960e-02,  3.6612e-02, -2.7844e-02, -6.1165e-02,\n",
              "                        5.8346e-02, -1.0369e-02,  4.2436e-02,  4.9330e-03,  2.0497e-02],\n",
              "                      [-2.2657e-01, -3.6825e-01, -1.5094e-01, -8.8204e-02,  7.9177e-02,\n",
              "                        2.4601e-01,  5.2862e-02, -3.0540e-01, -9.5427e-02,  2.1682e-01,\n",
              "                        1.9368e-02, -3.8516e-03, -7.0539e-02, -9.1150e-03,  2.8472e-03,\n",
              "                       -2.5680e-01,  5.7369e-02, -2.9271e-01,  5.9253e-01,  4.1783e-03,\n",
              "                       -2.6260e-01, -3.3219e-01, -9.0677e-02,  1.4498e-01, -4.6008e-02,\n",
              "                       -1.1123e-01, -1.5665e-01,  1.9400e-01, -4.5437e-02,  1.8229e-01],\n",
              "                      [-4.8294e-02,  1.3660e-01,  3.6803e-03,  2.2141e-03, -5.7138e-02,\n",
              "                       -1.5095e-01,  4.7544e-02,  1.0020e-01,  1.9228e-01,  8.9268e-02,\n",
              "                       -2.5568e-02, -1.0689e-02, -1.8081e-01, -1.4577e-01,  2.6901e-03,\n",
              "                        1.4129e-02, -9.0719e-03,  4.0218e-02, -7.4139e-03,  2.3647e-03,\n",
              "                        3.4200e-02,  3.0528e-02, -5.6643e-02, -3.0248e-02,  6.6572e-02,\n",
              "                        8.8797e-02,  1.8084e-01,  1.7884e-02,  3.0470e-03, -2.3238e-02],\n",
              "                      [ 5.9815e-02,  1.4091e-01,  4.9101e-02,  1.5332e-02,  3.3443e-03,\n",
              "                       -4.9562e-02, -2.7346e-02,  2.6788e-01,  2.0633e-01,  3.1605e-01,\n",
              "                       -5.3721e-03, -1.0291e-01, -8.1479e-02,  1.7924e-02,  1.0838e-04,\n",
              "                       -1.0563e-03,  1.3666e-02,  2.3037e-01, -4.7649e-04,  3.5058e-05,\n",
              "                       -1.3660e-02,  6.1262e-02,  8.9928e-03, -7.1617e-02, -1.1225e-02,\n",
              "                        1.3014e-01,  9.7436e-02, -4.0494e-02,  4.2896e-03,  1.3757e-02],\n",
              "                      [ 7.4268e-03,  9.9878e-02,  2.1983e-01,  2.5466e-02, -8.0849e-02,\n",
              "                       -1.2076e-01,  2.6934e-02,  1.8418e-01,  3.3349e-01, -2.9291e-01,\n",
              "                       -5.0843e-02,  4.3916e-02, -1.1596e-02, -4.3265e-01,  2.9670e-03,\n",
              "                        5.1034e-01,  2.0607e-01, -9.9853e-03, -1.3236e-01, -2.3625e-01,\n",
              "                        8.6755e-02, -5.1517e-02,  1.2349e-01, -1.2307e-01, -2.4666e-01,\n",
              "                        8.4388e-02, -1.8455e-01,  1.2864e-01,  1.8754e-02, -2.6684e-01],\n",
              "                      [ 6.4321e-02,  2.1270e-01,  3.6709e-01,  7.2473e-02, -1.6935e-01,\n",
              "                       -1.7248e-01,  1.8554e-03,  7.7814e-02,  2.6508e-02,  3.2302e-01,\n",
              "                       -1.5540e-01, -6.3593e-02, -2.9335e-04, -2.1352e-02, -2.7591e-03,\n",
              "                       -6.8358e-02,  1.3481e-01,  2.8091e-01,  5.5557e-01,  6.0556e-03,\n",
              "                        1.4200e-01, -3.1958e-02,  1.8538e-01, -1.3398e-01,  6.2603e-02,\n",
              "                        5.6736e-03,  1.4939e-02, -5.7788e-02, -3.0661e-02, -1.2211e-01]])),\n",
              "             ('dense0.bias',\n",
              "              tensor([-7.1245e-01,  3.7253e-05, -3.0013e-03, -3.5185e-01,  7.7102e-02,\n",
              "                       2.6732e-01,  3.6137e-01,  4.8335e-01])),\n",
              "             ('dense1.weight',\n",
              "              tensor([[-0.0253,  0.0385,  0.0021, -0.0159, -0.0676,  0.0142,  0.0426, -0.1180],\n",
              "                      [-0.0686, -0.0612,  0.0227, -0.0348,  0.0268,  0.1117,  0.0967, -0.1447],\n",
              "                      [ 0.1267, -0.0397, -0.0088,  0.0882,  0.0367, -0.0870,  0.0144, -0.0287],\n",
              "                      [ 0.1711, -0.0506, -0.0293,  0.1008,  0.0171, -0.0269, -0.0092, -0.0089],\n",
              "                      [-0.0153,  0.0349, -0.0031, -0.0966,  0.0317,  0.1007,  0.0436,  0.1134],\n",
              "                      [-0.0027,  0.0876,  0.0202, -0.0139,  0.0211,  0.0430, -0.0635, -0.0860],\n",
              "                      [-0.2384,  0.0389,  0.0418, -0.0852,  0.0332,  0.1488,  0.0541,  0.1927],\n",
              "                      [-0.0151,  0.0045,  0.0448, -0.0699,  0.0240,  0.0737,  0.0628,  0.1615]])),\n",
              "             ('dense1.bias',\n",
              "              tensor([-0.0078, -0.0071, -0.9060, -0.6372,  0.5498,  0.1343, -0.0091,  0.5272])),\n",
              "             ('dense2.weight',\n",
              "              tensor([[ 0.0501,  0.2658, -0.3919, -0.2614,  0.4129,  0.1068,  0.4033,  0.3350]])),\n",
              "             ('dense2.bias', tensor([0.3657]))])"
            ]
          },
          "metadata": {},
          "execution_count": 20
        }
      ]
    },
    {
      "cell_type": "code",
      "source": [
        "torch.save(classificador.state_dict(), 'checkpoint.pth')"
      ],
      "metadata": {
        "id": "hpfSk9QLfbXc"
      },
      "execution_count": 21,
      "outputs": []
    }
  ]
}