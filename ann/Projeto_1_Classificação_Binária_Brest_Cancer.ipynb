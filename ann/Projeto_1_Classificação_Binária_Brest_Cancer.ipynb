{
  "nbformat": 4,
  "nbformat_minor": 0,
  "metadata": {
    "colab": {
      "provenance": []
    },
    "kernelspec": {
      "name": "python3",
      "display_name": "Python 3"
    },
    "language_info": {
      "name": "python"
    }
  },
  "cells": [
    {
      "cell_type": "markdown",
      "source": [
        "##Importação das bibliotecas"
      ],
      "metadata": {
        "id": "F3fy_4ZoyHu9"
      }
    },
    {
      "cell_type": "code",
      "execution_count": null,
      "metadata": {
        "id": "vH1F9vM8x_wx"
      },
      "outputs": [],
      "source": [
        "import pandas as pd\n",
        "import numpy as np\n",
        "import seaborn as sns\n",
        "import io\n",
        "from google import colab as cl\n",
        "from sklearn.model_selection import train_test_split\n",
        "from sklearn.metrics import confusion_matrix, accuracy_score"
      ]
    },
    {
      "cell_type": "code",
      "source": [
        "import torch\n",
        "torch.__version__"
      ],
      "metadata": {
        "colab": {
          "base_uri": "https://localhost:8080/",
          "height": 35
        },
        "id": "lGV31Ohm0JhI",
        "outputId": "e399ee3c-5ae0-44a6-d3a5-fe349bc4b9e1"
      },
      "execution_count": null,
      "outputs": [
        {
          "output_type": "execute_result",
          "data": {
            "text/plain": [
              "'2.0.1+cu118'"
            ],
            "application/vnd.google.colaboratory.intrinsic+json": {
              "type": "string"
            }
          },
          "metadata": {},
          "execution_count": 3
        }
      ]
    },
    {
      "cell_type": "code",
      "source": [
        "import torch.nn as nn"
      ],
      "metadata": {
        "id": "Kh7Cxg5d0fH_"
      },
      "execution_count": null,
      "outputs": []
    },
    {
      "cell_type": "markdown",
      "source": [
        "## Base de dados"
      ],
      "metadata": {
        "id": "HP6TNV2PyOhC"
      }
    },
    {
      "cell_type": "code",
      "source": [
        "np.random.seed(123) #semente geradora aleatória, gera os mesmos valores para reproducibilidade"
      ],
      "metadata": {
        "id": "FwDnBC7_yQEq"
      },
      "execution_count": null,
      "outputs": []
    },
    {
      "cell_type": "code",
      "source": [
        "torch.manual_seed(123)"
      ],
      "metadata": {
        "colab": {
          "base_uri": "https://localhost:8080/"
        },
        "id": "If6zNUxKHj7l",
        "outputId": "99d63ffa-f443-4f44-e969-2be9bb79ea1d"
      },
      "execution_count": null,
      "outputs": [
        {
          "output_type": "execute_result",
          "data": {
            "text/plain": [
              "<torch._C.Generator at 0x7c8e35e4b590>"
            ]
          },
          "metadata": {},
          "execution_count": 6
        }
      ]
    },
    {
      "cell_type": "code",
      "source": [
        "file_upload = cl.files.upload() #importando arquivo para computador"
      ],
      "metadata": {
        "colab": {
          "base_uri": "https://localhost:8080/",
          "height": 107
        },
        "id": "mVdENT52H0G9",
        "outputId": "50dad761-4202-4973-f87c-62410ec94a2a"
      },
      "execution_count": null,
      "outputs": [
        {
          "output_type": "display_data",
          "data": {
            "text/plain": [
              "<IPython.core.display.HTML object>"
            ],
            "text/html": [
              "\n",
              "     <input type=\"file\" id=\"files-3a36de06-4c39-481f-a394-77a60d5862e7\" name=\"files[]\" multiple disabled\n",
              "        style=\"border:none\" />\n",
              "     <output id=\"result-3a36de06-4c39-481f-a394-77a60d5862e7\">\n",
              "      Upload widget is only available when the cell has been executed in the\n",
              "      current browser session. Please rerun this cell to enable.\n",
              "      </output>\n",
              "      <script>// Copyright 2017 Google LLC\n",
              "//\n",
              "// Licensed under the Apache License, Version 2.0 (the \"License\");\n",
              "// you may not use this file except in compliance with the License.\n",
              "// You may obtain a copy of the License at\n",
              "//\n",
              "//      http://www.apache.org/licenses/LICENSE-2.0\n",
              "//\n",
              "// Unless required by applicable law or agreed to in writing, software\n",
              "// distributed under the License is distributed on an \"AS IS\" BASIS,\n",
              "// WITHOUT WARRANTIES OR CONDITIONS OF ANY KIND, either express or implied.\n",
              "// See the License for the specific language governing permissions and\n",
              "// limitations under the License.\n",
              "\n",
              "/**\n",
              " * @fileoverview Helpers for google.colab Python module.\n",
              " */\n",
              "(function(scope) {\n",
              "function span(text, styleAttributes = {}) {\n",
              "  const element = document.createElement('span');\n",
              "  element.textContent = text;\n",
              "  for (const key of Object.keys(styleAttributes)) {\n",
              "    element.style[key] = styleAttributes[key];\n",
              "  }\n",
              "  return element;\n",
              "}\n",
              "\n",
              "// Max number of bytes which will be uploaded at a time.\n",
              "const MAX_PAYLOAD_SIZE = 100 * 1024;\n",
              "\n",
              "function _uploadFiles(inputId, outputId) {\n",
              "  const steps = uploadFilesStep(inputId, outputId);\n",
              "  const outputElement = document.getElementById(outputId);\n",
              "  // Cache steps on the outputElement to make it available for the next call\n",
              "  // to uploadFilesContinue from Python.\n",
              "  outputElement.steps = steps;\n",
              "\n",
              "  return _uploadFilesContinue(outputId);\n",
              "}\n",
              "\n",
              "// This is roughly an async generator (not supported in the browser yet),\n",
              "// where there are multiple asynchronous steps and the Python side is going\n",
              "// to poll for completion of each step.\n",
              "// This uses a Promise to block the python side on completion of each step,\n",
              "// then passes the result of the previous step as the input to the next step.\n",
              "function _uploadFilesContinue(outputId) {\n",
              "  const outputElement = document.getElementById(outputId);\n",
              "  const steps = outputElement.steps;\n",
              "\n",
              "  const next = steps.next(outputElement.lastPromiseValue);\n",
              "  return Promise.resolve(next.value.promise).then((value) => {\n",
              "    // Cache the last promise value to make it available to the next\n",
              "    // step of the generator.\n",
              "    outputElement.lastPromiseValue = value;\n",
              "    return next.value.response;\n",
              "  });\n",
              "}\n",
              "\n",
              "/**\n",
              " * Generator function which is called between each async step of the upload\n",
              " * process.\n",
              " * @param {string} inputId Element ID of the input file picker element.\n",
              " * @param {string} outputId Element ID of the output display.\n",
              " * @return {!Iterable<!Object>} Iterable of next steps.\n",
              " */\n",
              "function* uploadFilesStep(inputId, outputId) {\n",
              "  const inputElement = document.getElementById(inputId);\n",
              "  inputElement.disabled = false;\n",
              "\n",
              "  const outputElement = document.getElementById(outputId);\n",
              "  outputElement.innerHTML = '';\n",
              "\n",
              "  const pickedPromise = new Promise((resolve) => {\n",
              "    inputElement.addEventListener('change', (e) => {\n",
              "      resolve(e.target.files);\n",
              "    });\n",
              "  });\n",
              "\n",
              "  const cancel = document.createElement('button');\n",
              "  inputElement.parentElement.appendChild(cancel);\n",
              "  cancel.textContent = 'Cancel upload';\n",
              "  const cancelPromise = new Promise((resolve) => {\n",
              "    cancel.onclick = () => {\n",
              "      resolve(null);\n",
              "    };\n",
              "  });\n",
              "\n",
              "  // Wait for the user to pick the files.\n",
              "  const files = yield {\n",
              "    promise: Promise.race([pickedPromise, cancelPromise]),\n",
              "    response: {\n",
              "      action: 'starting',\n",
              "    }\n",
              "  };\n",
              "\n",
              "  cancel.remove();\n",
              "\n",
              "  // Disable the input element since further picks are not allowed.\n",
              "  inputElement.disabled = true;\n",
              "\n",
              "  if (!files) {\n",
              "    return {\n",
              "      response: {\n",
              "        action: 'complete',\n",
              "      }\n",
              "    };\n",
              "  }\n",
              "\n",
              "  for (const file of files) {\n",
              "    const li = document.createElement('li');\n",
              "    li.append(span(file.name, {fontWeight: 'bold'}));\n",
              "    li.append(span(\n",
              "        `(${file.type || 'n/a'}) - ${file.size} bytes, ` +\n",
              "        `last modified: ${\n",
              "            file.lastModifiedDate ? file.lastModifiedDate.toLocaleDateString() :\n",
              "                                    'n/a'} - `));\n",
              "    const percent = span('0% done');\n",
              "    li.appendChild(percent);\n",
              "\n",
              "    outputElement.appendChild(li);\n",
              "\n",
              "    const fileDataPromise = new Promise((resolve) => {\n",
              "      const reader = new FileReader();\n",
              "      reader.onload = (e) => {\n",
              "        resolve(e.target.result);\n",
              "      };\n",
              "      reader.readAsArrayBuffer(file);\n",
              "    });\n",
              "    // Wait for the data to be ready.\n",
              "    let fileData = yield {\n",
              "      promise: fileDataPromise,\n",
              "      response: {\n",
              "        action: 'continue',\n",
              "      }\n",
              "    };\n",
              "\n",
              "    // Use a chunked sending to avoid message size limits. See b/62115660.\n",
              "    let position = 0;\n",
              "    do {\n",
              "      const length = Math.min(fileData.byteLength - position, MAX_PAYLOAD_SIZE);\n",
              "      const chunk = new Uint8Array(fileData, position, length);\n",
              "      position += length;\n",
              "\n",
              "      const base64 = btoa(String.fromCharCode.apply(null, chunk));\n",
              "      yield {\n",
              "        response: {\n",
              "          action: 'append',\n",
              "          file: file.name,\n",
              "          data: base64,\n",
              "        },\n",
              "      };\n",
              "\n",
              "      let percentDone = fileData.byteLength === 0 ?\n",
              "          100 :\n",
              "          Math.round((position / fileData.byteLength) * 100);\n",
              "      percent.textContent = `${percentDone}% done`;\n",
              "\n",
              "    } while (position < fileData.byteLength);\n",
              "  }\n",
              "\n",
              "  // All done.\n",
              "  yield {\n",
              "    response: {\n",
              "      action: 'complete',\n",
              "    }\n",
              "  };\n",
              "}\n",
              "\n",
              "scope.google = scope.google || {};\n",
              "scope.google.colab = scope.google.colab || {};\n",
              "scope.google.colab._files = {\n",
              "  _uploadFiles,\n",
              "  _uploadFilesContinue,\n",
              "};\n",
              "})(self);\n",
              "</script> "
            ]
          },
          "metadata": {}
        },
        {
          "output_type": "stream",
          "name": "stdout",
          "text": [
            "Saving saidas_breast.csv to saidas_breast.csv\n",
            "Saving entradas_breast.csv to entradas_breast.csv\n"
          ]
        }
      ]
    },
    {
      "cell_type": "code",
      "source": [
        "previsores = pd.read_csv('/content/entradas_breast.csv')\n",
        "classe = pd.read_csv('/content/saidas_breast.csv')"
      ],
      "metadata": {
        "id": "TI-RHi9KIL47"
      },
      "execution_count": null,
      "outputs": []
    },
    {
      "cell_type": "code",
      "source": [
        "previsores.shape"
      ],
      "metadata": {
        "colab": {
          "base_uri": "https://localhost:8080/"
        },
        "id": "Dsh4jiAlIXt8",
        "outputId": "e55a3ce1-54bc-418b-e55e-1d84bba53d8c"
      },
      "execution_count": null,
      "outputs": [
        {
          "output_type": "execute_result",
          "data": {
            "text/plain": [
              "(569, 30)"
            ]
          },
          "metadata": {},
          "execution_count": 9
        }
      ]
    },
    {
      "cell_type": "code",
      "source": [
        "previsores.head()"
      ],
      "metadata": {
        "colab": {
          "base_uri": "https://localhost:8080/",
          "height": 300
        },
        "id": "EeNmBoU3Ic2C",
        "outputId": "ce5e3cb4-5c63-47d1-9075-e75bb198f078"
      },
      "execution_count": null,
      "outputs": [
        {
          "output_type": "execute_result",
          "data": {
            "text/plain": [
              "    radius_mean   texture_mean   perimeter_mean   area_mean   smoothness_mean  \\\n",
              "0         17.99          10.38           122.80      1001.0           0.11840   \n",
              "1         20.57          17.77           132.90      1326.0           0.08474   \n",
              "2         19.69          21.25           130.00      1203.0           0.10960   \n",
              "3         11.42          20.38            77.58       386.1           0.14250   \n",
              "4         20.29          14.34           135.10      1297.0           0.10030   \n",
              "\n",
              "    compactness_mean   concavity_mean  concave_points_mean   symmetry_mean  \\\n",
              "0            0.27760           0.3001              0.14710          0.2419   \n",
              "1            0.07864           0.0869              0.07017          0.1812   \n",
              "2            0.15990           0.1974              0.12790          0.2069   \n",
              "3            0.28390           0.2414              0.10520          0.2597   \n",
              "4            0.13280         198.0000              0.10430          0.1809   \n",
              "\n",
              "    fractal_dimension_mean  ...   radius_worst   texture_worst  \\\n",
              "0                  0.07871  ...          25.38           17.33   \n",
              "1                  0.05667  ...          24.99           23.41   \n",
              "2                  0.05999  ...          23.57           25.53   \n",
              "3                  0.09744  ...          14.91           26.50   \n",
              "4                  0.05883  ...          22.54           16.67   \n",
              "\n",
              "    perimeter_worst   area_worst   smoothness_worst   compactness_worst  \\\n",
              "0            184.60       2019.0             0.1622              0.6656   \n",
              "1            158.80       1956.0             0.1238              0.1866   \n",
              "2            152.50       1709.0             0.1444              0.4245   \n",
              "3             98.87        567.7             0.2098              0.8663   \n",
              "4            152.20       1575.0             0.1374            205.0000   \n",
              "\n",
              "    concavity_worst   concave_points_worst   symmetry_worst  \\\n",
              "0            0.7119                 0.2654           0.4601   \n",
              "1            0.2416               186.0000         275.0000   \n",
              "2            0.4504               243.0000           0.3613   \n",
              "3            0.6869                 0.2575           0.6638   \n",
              "4            0.4000                 0.1625           0.2364   \n",
              "\n",
              "    fractal_dimension_worst  \n",
              "0                   0.11890  \n",
              "1                   0.08902  \n",
              "2                   0.08758  \n",
              "3                 173.00000  \n",
              "4                   0.07678  \n",
              "\n",
              "[5 rows x 30 columns]"
            ],
            "text/html": [
              "\n",
              "\n",
              "  <div id=\"df-6175c103-069e-408f-99c7-f10c012890d2\">\n",
              "    <div class=\"colab-df-container\">\n",
              "      <div>\n",
              "<style scoped>\n",
              "    .dataframe tbody tr th:only-of-type {\n",
              "        vertical-align: middle;\n",
              "    }\n",
              "\n",
              "    .dataframe tbody tr th {\n",
              "        vertical-align: top;\n",
              "    }\n",
              "\n",
              "    .dataframe thead th {\n",
              "        text-align: right;\n",
              "    }\n",
              "</style>\n",
              "<table border=\"1\" class=\"dataframe\">\n",
              "  <thead>\n",
              "    <tr style=\"text-align: right;\">\n",
              "      <th></th>\n",
              "      <th>radius_mean</th>\n",
              "      <th>texture_mean</th>\n",
              "      <th>perimeter_mean</th>\n",
              "      <th>area_mean</th>\n",
              "      <th>smoothness_mean</th>\n",
              "      <th>compactness_mean</th>\n",
              "      <th>concavity_mean</th>\n",
              "      <th>concave_points_mean</th>\n",
              "      <th>symmetry_mean</th>\n",
              "      <th>fractal_dimension_mean</th>\n",
              "      <th>...</th>\n",
              "      <th>radius_worst</th>\n",
              "      <th>texture_worst</th>\n",
              "      <th>perimeter_worst</th>\n",
              "      <th>area_worst</th>\n",
              "      <th>smoothness_worst</th>\n",
              "      <th>compactness_worst</th>\n",
              "      <th>concavity_worst</th>\n",
              "      <th>concave_points_worst</th>\n",
              "      <th>symmetry_worst</th>\n",
              "      <th>fractal_dimension_worst</th>\n",
              "    </tr>\n",
              "  </thead>\n",
              "  <tbody>\n",
              "    <tr>\n",
              "      <th>0</th>\n",
              "      <td>17.99</td>\n",
              "      <td>10.38</td>\n",
              "      <td>122.80</td>\n",
              "      <td>1001.0</td>\n",
              "      <td>0.11840</td>\n",
              "      <td>0.27760</td>\n",
              "      <td>0.3001</td>\n",
              "      <td>0.14710</td>\n",
              "      <td>0.2419</td>\n",
              "      <td>0.07871</td>\n",
              "      <td>...</td>\n",
              "      <td>25.38</td>\n",
              "      <td>17.33</td>\n",
              "      <td>184.60</td>\n",
              "      <td>2019.0</td>\n",
              "      <td>0.1622</td>\n",
              "      <td>0.6656</td>\n",
              "      <td>0.7119</td>\n",
              "      <td>0.2654</td>\n",
              "      <td>0.4601</td>\n",
              "      <td>0.11890</td>\n",
              "    </tr>\n",
              "    <tr>\n",
              "      <th>1</th>\n",
              "      <td>20.57</td>\n",
              "      <td>17.77</td>\n",
              "      <td>132.90</td>\n",
              "      <td>1326.0</td>\n",
              "      <td>0.08474</td>\n",
              "      <td>0.07864</td>\n",
              "      <td>0.0869</td>\n",
              "      <td>0.07017</td>\n",
              "      <td>0.1812</td>\n",
              "      <td>0.05667</td>\n",
              "      <td>...</td>\n",
              "      <td>24.99</td>\n",
              "      <td>23.41</td>\n",
              "      <td>158.80</td>\n",
              "      <td>1956.0</td>\n",
              "      <td>0.1238</td>\n",
              "      <td>0.1866</td>\n",
              "      <td>0.2416</td>\n",
              "      <td>186.0000</td>\n",
              "      <td>275.0000</td>\n",
              "      <td>0.08902</td>\n",
              "    </tr>\n",
              "    <tr>\n",
              "      <th>2</th>\n",
              "      <td>19.69</td>\n",
              "      <td>21.25</td>\n",
              "      <td>130.00</td>\n",
              "      <td>1203.0</td>\n",
              "      <td>0.10960</td>\n",
              "      <td>0.15990</td>\n",
              "      <td>0.1974</td>\n",
              "      <td>0.12790</td>\n",
              "      <td>0.2069</td>\n",
              "      <td>0.05999</td>\n",
              "      <td>...</td>\n",
              "      <td>23.57</td>\n",
              "      <td>25.53</td>\n",
              "      <td>152.50</td>\n",
              "      <td>1709.0</td>\n",
              "      <td>0.1444</td>\n",
              "      <td>0.4245</td>\n",
              "      <td>0.4504</td>\n",
              "      <td>243.0000</td>\n",
              "      <td>0.3613</td>\n",
              "      <td>0.08758</td>\n",
              "    </tr>\n",
              "    <tr>\n",
              "      <th>3</th>\n",
              "      <td>11.42</td>\n",
              "      <td>20.38</td>\n",
              "      <td>77.58</td>\n",
              "      <td>386.1</td>\n",
              "      <td>0.14250</td>\n",
              "      <td>0.28390</td>\n",
              "      <td>0.2414</td>\n",
              "      <td>0.10520</td>\n",
              "      <td>0.2597</td>\n",
              "      <td>0.09744</td>\n",
              "      <td>...</td>\n",
              "      <td>14.91</td>\n",
              "      <td>26.50</td>\n",
              "      <td>98.87</td>\n",
              "      <td>567.7</td>\n",
              "      <td>0.2098</td>\n",
              "      <td>0.8663</td>\n",
              "      <td>0.6869</td>\n",
              "      <td>0.2575</td>\n",
              "      <td>0.6638</td>\n",
              "      <td>173.00000</td>\n",
              "    </tr>\n",
              "    <tr>\n",
              "      <th>4</th>\n",
              "      <td>20.29</td>\n",
              "      <td>14.34</td>\n",
              "      <td>135.10</td>\n",
              "      <td>1297.0</td>\n",
              "      <td>0.10030</td>\n",
              "      <td>0.13280</td>\n",
              "      <td>198.0000</td>\n",
              "      <td>0.10430</td>\n",
              "      <td>0.1809</td>\n",
              "      <td>0.05883</td>\n",
              "      <td>...</td>\n",
              "      <td>22.54</td>\n",
              "      <td>16.67</td>\n",
              "      <td>152.20</td>\n",
              "      <td>1575.0</td>\n",
              "      <td>0.1374</td>\n",
              "      <td>205.0000</td>\n",
              "      <td>0.4000</td>\n",
              "      <td>0.1625</td>\n",
              "      <td>0.2364</td>\n",
              "      <td>0.07678</td>\n",
              "    </tr>\n",
              "  </tbody>\n",
              "</table>\n",
              "<p>5 rows × 30 columns</p>\n",
              "</div>\n",
              "      <button class=\"colab-df-convert\" onclick=\"convertToInteractive('df-6175c103-069e-408f-99c7-f10c012890d2')\"\n",
              "              title=\"Convert this dataframe to an interactive table.\"\n",
              "              style=\"display:none;\">\n",
              "\n",
              "  <svg xmlns=\"http://www.w3.org/2000/svg\" height=\"24px\"viewBox=\"0 0 24 24\"\n",
              "       width=\"24px\">\n",
              "    <path d=\"M0 0h24v24H0V0z\" fill=\"none\"/>\n",
              "    <path d=\"M18.56 5.44l.94 2.06.94-2.06 2.06-.94-2.06-.94-.94-2.06-.94 2.06-2.06.94zm-11 1L8.5 8.5l.94-2.06 2.06-.94-2.06-.94L8.5 2.5l-.94 2.06-2.06.94zm10 10l.94 2.06.94-2.06 2.06-.94-2.06-.94-.94-2.06-.94 2.06-2.06.94z\"/><path d=\"M17.41 7.96l-1.37-1.37c-.4-.4-.92-.59-1.43-.59-.52 0-1.04.2-1.43.59L10.3 9.45l-7.72 7.72c-.78.78-.78 2.05 0 2.83L4 21.41c.39.39.9.59 1.41.59.51 0 1.02-.2 1.41-.59l7.78-7.78 2.81-2.81c.8-.78.8-2.07 0-2.86zM5.41 20L4 18.59l7.72-7.72 1.47 1.35L5.41 20z\"/>\n",
              "  </svg>\n",
              "      </button>\n",
              "\n",
              "\n",
              "\n",
              "    <div id=\"df-fbdc44a4-e75a-4e19-bb78-a7457b7999fc\">\n",
              "      <button class=\"colab-df-quickchart\" onclick=\"quickchart('df-fbdc44a4-e75a-4e19-bb78-a7457b7999fc')\"\n",
              "              title=\"Suggest charts.\"\n",
              "              style=\"display:none;\">\n",
              "\n",
              "<svg xmlns=\"http://www.w3.org/2000/svg\" height=\"24px\"viewBox=\"0 0 24 24\"\n",
              "     width=\"24px\">\n",
              "    <g>\n",
              "        <path d=\"M19 3H5c-1.1 0-2 .9-2 2v14c0 1.1.9 2 2 2h14c1.1 0 2-.9 2-2V5c0-1.1-.9-2-2-2zM9 17H7v-7h2v7zm4 0h-2V7h2v10zm4 0h-2v-4h2v4z\"/>\n",
              "    </g>\n",
              "</svg>\n",
              "      </button>\n",
              "    </div>\n",
              "\n",
              "<style>\n",
              "  .colab-df-quickchart {\n",
              "    background-color: #E8F0FE;\n",
              "    border: none;\n",
              "    border-radius: 50%;\n",
              "    cursor: pointer;\n",
              "    display: none;\n",
              "    fill: #1967D2;\n",
              "    height: 32px;\n",
              "    padding: 0 0 0 0;\n",
              "    width: 32px;\n",
              "  }\n",
              "\n",
              "  .colab-df-quickchart:hover {\n",
              "    background-color: #E2EBFA;\n",
              "    box-shadow: 0px 1px 2px rgba(60, 64, 67, 0.3), 0px 1px 3px 1px rgba(60, 64, 67, 0.15);\n",
              "    fill: #174EA6;\n",
              "  }\n",
              "\n",
              "  [theme=dark] .colab-df-quickchart {\n",
              "    background-color: #3B4455;\n",
              "    fill: #D2E3FC;\n",
              "  }\n",
              "\n",
              "  [theme=dark] .colab-df-quickchart:hover {\n",
              "    background-color: #434B5C;\n",
              "    box-shadow: 0px 1px 3px 1px rgba(0, 0, 0, 0.15);\n",
              "    filter: drop-shadow(0px 1px 2px rgba(0, 0, 0, 0.3));\n",
              "    fill: #FFFFFF;\n",
              "  }\n",
              "</style>\n",
              "\n",
              "    <script>\n",
              "      async function quickchart(key) {\n",
              "        const containerElement = document.querySelector('#' + key);\n",
              "        const charts = await google.colab.kernel.invokeFunction(\n",
              "            'suggestCharts', [key], {});\n",
              "      }\n",
              "    </script>\n",
              "\n",
              "      <script>\n",
              "\n",
              "function displayQuickchartButton(domScope) {\n",
              "  let quickchartButtonEl =\n",
              "    domScope.querySelector('#df-fbdc44a4-e75a-4e19-bb78-a7457b7999fc button.colab-df-quickchart');\n",
              "  quickchartButtonEl.style.display =\n",
              "    google.colab.kernel.accessAllowed ? 'block' : 'none';\n",
              "}\n",
              "\n",
              "        displayQuickchartButton(document);\n",
              "      </script>\n",
              "      <style>\n",
              "    .colab-df-container {\n",
              "      display:flex;\n",
              "      flex-wrap:wrap;\n",
              "      gap: 12px;\n",
              "    }\n",
              "\n",
              "    .colab-df-convert {\n",
              "      background-color: #E8F0FE;\n",
              "      border: none;\n",
              "      border-radius: 50%;\n",
              "      cursor: pointer;\n",
              "      display: none;\n",
              "      fill: #1967D2;\n",
              "      height: 32px;\n",
              "      padding: 0 0 0 0;\n",
              "      width: 32px;\n",
              "    }\n",
              "\n",
              "    .colab-df-convert:hover {\n",
              "      background-color: #E2EBFA;\n",
              "      box-shadow: 0px 1px 2px rgba(60, 64, 67, 0.3), 0px 1px 3px 1px rgba(60, 64, 67, 0.15);\n",
              "      fill: #174EA6;\n",
              "    }\n",
              "\n",
              "    [theme=dark] .colab-df-convert {\n",
              "      background-color: #3B4455;\n",
              "      fill: #D2E3FC;\n",
              "    }\n",
              "\n",
              "    [theme=dark] .colab-df-convert:hover {\n",
              "      background-color: #434B5C;\n",
              "      box-shadow: 0px 1px 3px 1px rgba(0, 0, 0, 0.15);\n",
              "      filter: drop-shadow(0px 1px 2px rgba(0, 0, 0, 0.3));\n",
              "      fill: #FFFFFF;\n",
              "    }\n",
              "  </style>\n",
              "\n",
              "      <script>\n",
              "        const buttonEl =\n",
              "          document.querySelector('#df-6175c103-069e-408f-99c7-f10c012890d2 button.colab-df-convert');\n",
              "        buttonEl.style.display =\n",
              "          google.colab.kernel.accessAllowed ? 'block' : 'none';\n",
              "\n",
              "        async function convertToInteractive(key) {\n",
              "          const element = document.querySelector('#df-6175c103-069e-408f-99c7-f10c012890d2');\n",
              "          const dataTable =\n",
              "            await google.colab.kernel.invokeFunction('convertToInteractive',\n",
              "                                                     [key], {});\n",
              "          if (!dataTable) return;\n",
              "\n",
              "          const docLinkHtml = 'Like what you see? Visit the ' +\n",
              "            '<a target=\"_blank\" href=https://colab.research.google.com/notebooks/data_table.ipynb>data table notebook</a>'\n",
              "            + ' to learn more about interactive tables.';\n",
              "          element.innerHTML = '';\n",
              "          dataTable['output_type'] = 'display_data';\n",
              "          await google.colab.output.renderOutput(dataTable, element);\n",
              "          const docLink = document.createElement('div');\n",
              "          docLink.innerHTML = docLinkHtml;\n",
              "          element.appendChild(docLink);\n",
              "        }\n",
              "      </script>\n",
              "    </div>\n",
              "  </div>\n"
            ]
          },
          "metadata": {},
          "execution_count": 10
        }
      ]
    },
    {
      "cell_type": "code",
      "source": [
        "classe.shape"
      ],
      "metadata": {
        "colab": {
          "base_uri": "https://localhost:8080/"
        },
        "id": "wvy-dqVkIaHt",
        "outputId": "7d86dbc1-9db0-4cb1-c852-8833eaf0af8b"
      },
      "execution_count": null,
      "outputs": [
        {
          "output_type": "execute_result",
          "data": {
            "text/plain": [
              "(569, 1)"
            ]
          },
          "metadata": {},
          "execution_count": 11
        }
      ]
    },
    {
      "cell_type": "code",
      "source": [
        "classe.head()"
      ],
      "metadata": {
        "colab": {
          "base_uri": "https://localhost:8080/",
          "height": 206
        },
        "id": "aD8gi6kSJMTh",
        "outputId": "4e041e2f-fc44-48ea-a3a4-73896335b54b"
      },
      "execution_count": null,
      "outputs": [
        {
          "output_type": "execute_result",
          "data": {
            "text/plain": [
              "   0\n",
              "0  0\n",
              "1  0\n",
              "2  0\n",
              "3  0\n",
              "4  0"
            ],
            "text/html": [
              "\n",
              "\n",
              "  <div id=\"df-9fe2008b-5947-4f60-a0d7-e498bb9c380a\">\n",
              "    <div class=\"colab-df-container\">\n",
              "      <div>\n",
              "<style scoped>\n",
              "    .dataframe tbody tr th:only-of-type {\n",
              "        vertical-align: middle;\n",
              "    }\n",
              "\n",
              "    .dataframe tbody tr th {\n",
              "        vertical-align: top;\n",
              "    }\n",
              "\n",
              "    .dataframe thead th {\n",
              "        text-align: right;\n",
              "    }\n",
              "</style>\n",
              "<table border=\"1\" class=\"dataframe\">\n",
              "  <thead>\n",
              "    <tr style=\"text-align: right;\">\n",
              "      <th></th>\n",
              "      <th>0</th>\n",
              "    </tr>\n",
              "  </thead>\n",
              "  <tbody>\n",
              "    <tr>\n",
              "      <th>0</th>\n",
              "      <td>0</td>\n",
              "    </tr>\n",
              "    <tr>\n",
              "      <th>1</th>\n",
              "      <td>0</td>\n",
              "    </tr>\n",
              "    <tr>\n",
              "      <th>2</th>\n",
              "      <td>0</td>\n",
              "    </tr>\n",
              "    <tr>\n",
              "      <th>3</th>\n",
              "      <td>0</td>\n",
              "    </tr>\n",
              "    <tr>\n",
              "      <th>4</th>\n",
              "      <td>0</td>\n",
              "    </tr>\n",
              "  </tbody>\n",
              "</table>\n",
              "</div>\n",
              "      <button class=\"colab-df-convert\" onclick=\"convertToInteractive('df-9fe2008b-5947-4f60-a0d7-e498bb9c380a')\"\n",
              "              title=\"Convert this dataframe to an interactive table.\"\n",
              "              style=\"display:none;\">\n",
              "\n",
              "  <svg xmlns=\"http://www.w3.org/2000/svg\" height=\"24px\"viewBox=\"0 0 24 24\"\n",
              "       width=\"24px\">\n",
              "    <path d=\"M0 0h24v24H0V0z\" fill=\"none\"/>\n",
              "    <path d=\"M18.56 5.44l.94 2.06.94-2.06 2.06-.94-2.06-.94-.94-2.06-.94 2.06-2.06.94zm-11 1L8.5 8.5l.94-2.06 2.06-.94-2.06-.94L8.5 2.5l-.94 2.06-2.06.94zm10 10l.94 2.06.94-2.06 2.06-.94-2.06-.94-.94-2.06-.94 2.06-2.06.94z\"/><path d=\"M17.41 7.96l-1.37-1.37c-.4-.4-.92-.59-1.43-.59-.52 0-1.04.2-1.43.59L10.3 9.45l-7.72 7.72c-.78.78-.78 2.05 0 2.83L4 21.41c.39.39.9.59 1.41.59.51 0 1.02-.2 1.41-.59l7.78-7.78 2.81-2.81c.8-.78.8-2.07 0-2.86zM5.41 20L4 18.59l7.72-7.72 1.47 1.35L5.41 20z\"/>\n",
              "  </svg>\n",
              "      </button>\n",
              "\n",
              "\n",
              "\n",
              "    <div id=\"df-45c192b4-5ad0-4cde-b090-0080e677187c\">\n",
              "      <button class=\"colab-df-quickchart\" onclick=\"quickchart('df-45c192b4-5ad0-4cde-b090-0080e677187c')\"\n",
              "              title=\"Suggest charts.\"\n",
              "              style=\"display:none;\">\n",
              "\n",
              "<svg xmlns=\"http://www.w3.org/2000/svg\" height=\"24px\"viewBox=\"0 0 24 24\"\n",
              "     width=\"24px\">\n",
              "    <g>\n",
              "        <path d=\"M19 3H5c-1.1 0-2 .9-2 2v14c0 1.1.9 2 2 2h14c1.1 0 2-.9 2-2V5c0-1.1-.9-2-2-2zM9 17H7v-7h2v7zm4 0h-2V7h2v10zm4 0h-2v-4h2v4z\"/>\n",
              "    </g>\n",
              "</svg>\n",
              "      </button>\n",
              "    </div>\n",
              "\n",
              "<style>\n",
              "  .colab-df-quickchart {\n",
              "    background-color: #E8F0FE;\n",
              "    border: none;\n",
              "    border-radius: 50%;\n",
              "    cursor: pointer;\n",
              "    display: none;\n",
              "    fill: #1967D2;\n",
              "    height: 32px;\n",
              "    padding: 0 0 0 0;\n",
              "    width: 32px;\n",
              "  }\n",
              "\n",
              "  .colab-df-quickchart:hover {\n",
              "    background-color: #E2EBFA;\n",
              "    box-shadow: 0px 1px 2px rgba(60, 64, 67, 0.3), 0px 1px 3px 1px rgba(60, 64, 67, 0.15);\n",
              "    fill: #174EA6;\n",
              "  }\n",
              "\n",
              "  [theme=dark] .colab-df-quickchart {\n",
              "    background-color: #3B4455;\n",
              "    fill: #D2E3FC;\n",
              "  }\n",
              "\n",
              "  [theme=dark] .colab-df-quickchart:hover {\n",
              "    background-color: #434B5C;\n",
              "    box-shadow: 0px 1px 3px 1px rgba(0, 0, 0, 0.15);\n",
              "    filter: drop-shadow(0px 1px 2px rgba(0, 0, 0, 0.3));\n",
              "    fill: #FFFFFF;\n",
              "  }\n",
              "</style>\n",
              "\n",
              "    <script>\n",
              "      async function quickchart(key) {\n",
              "        const containerElement = document.querySelector('#' + key);\n",
              "        const charts = await google.colab.kernel.invokeFunction(\n",
              "            'suggestCharts', [key], {});\n",
              "      }\n",
              "    </script>\n",
              "\n",
              "      <script>\n",
              "\n",
              "function displayQuickchartButton(domScope) {\n",
              "  let quickchartButtonEl =\n",
              "    domScope.querySelector('#df-45c192b4-5ad0-4cde-b090-0080e677187c button.colab-df-quickchart');\n",
              "  quickchartButtonEl.style.display =\n",
              "    google.colab.kernel.accessAllowed ? 'block' : 'none';\n",
              "}\n",
              "\n",
              "        displayQuickchartButton(document);\n",
              "      </script>\n",
              "      <style>\n",
              "    .colab-df-container {\n",
              "      display:flex;\n",
              "      flex-wrap:wrap;\n",
              "      gap: 12px;\n",
              "    }\n",
              "\n",
              "    .colab-df-convert {\n",
              "      background-color: #E8F0FE;\n",
              "      border: none;\n",
              "      border-radius: 50%;\n",
              "      cursor: pointer;\n",
              "      display: none;\n",
              "      fill: #1967D2;\n",
              "      height: 32px;\n",
              "      padding: 0 0 0 0;\n",
              "      width: 32px;\n",
              "    }\n",
              "\n",
              "    .colab-df-convert:hover {\n",
              "      background-color: #E2EBFA;\n",
              "      box-shadow: 0px 1px 2px rgba(60, 64, 67, 0.3), 0px 1px 3px 1px rgba(60, 64, 67, 0.15);\n",
              "      fill: #174EA6;\n",
              "    }\n",
              "\n",
              "    [theme=dark] .colab-df-convert {\n",
              "      background-color: #3B4455;\n",
              "      fill: #D2E3FC;\n",
              "    }\n",
              "\n",
              "    [theme=dark] .colab-df-convert:hover {\n",
              "      background-color: #434B5C;\n",
              "      box-shadow: 0px 1px 3px 1px rgba(0, 0, 0, 0.15);\n",
              "      filter: drop-shadow(0px 1px 2px rgba(0, 0, 0, 0.3));\n",
              "      fill: #FFFFFF;\n",
              "    }\n",
              "  </style>\n",
              "\n",
              "      <script>\n",
              "        const buttonEl =\n",
              "          document.querySelector('#df-9fe2008b-5947-4f60-a0d7-e498bb9c380a button.colab-df-convert');\n",
              "        buttonEl.style.display =\n",
              "          google.colab.kernel.accessAllowed ? 'block' : 'none';\n",
              "\n",
              "        async function convertToInteractive(key) {\n",
              "          const element = document.querySelector('#df-9fe2008b-5947-4f60-a0d7-e498bb9c380a');\n",
              "          const dataTable =\n",
              "            await google.colab.kernel.invokeFunction('convertToInteractive',\n",
              "                                                     [key], {});\n",
              "          if (!dataTable) return;\n",
              "\n",
              "          const docLinkHtml = 'Like what you see? Visit the ' +\n",
              "            '<a target=\"_blank\" href=https://colab.research.google.com/notebooks/data_table.ipynb>data table notebook</a>'\n",
              "            + ' to learn more about interactive tables.';\n",
              "          element.innerHTML = '';\n",
              "          dataTable['output_type'] = 'display_data';\n",
              "          await google.colab.output.renderOutput(dataTable, element);\n",
              "          const docLink = document.createElement('div');\n",
              "          docLink.innerHTML = docLinkHtml;\n",
              "          element.appendChild(docLink);\n",
              "        }\n",
              "      </script>\n",
              "    </div>\n",
              "  </div>\n"
            ]
          },
          "metadata": {},
          "execution_count": 12
        }
      ]
    },
    {
      "cell_type": "code",
      "source": [
        "np.unique(classe)"
      ],
      "metadata": {
        "colab": {
          "base_uri": "https://localhost:8080/"
        },
        "id": "fMqhTbiKJPqf",
        "outputId": "e506dd61-b4f9-44a1-d481-31a3610e8277"
      },
      "execution_count": null,
      "outputs": [
        {
          "output_type": "execute_result",
          "data": {
            "text/plain": [
              "array([0, 1])"
            ]
          },
          "metadata": {},
          "execution_count": 13
        }
      ]
    },
    {
      "cell_type": "code",
      "source": [
        "sns.countplot(classe['0']);"
      ],
      "metadata": {
        "colab": {
          "base_uri": "https://localhost:8080/",
          "height": 430
        },
        "id": "9Dh8lxfyJTXP",
        "outputId": "d0b61a71-872c-4dc0-d36f-450f46a25a78"
      },
      "execution_count": null,
      "outputs": [
        {
          "output_type": "display_data",
          "data": {
            "text/plain": [
              "<Figure size 640x480 with 1 Axes>"
            ],
            "image/png": "[encoded data removed]"
          },
          "metadata": {}
        }
      ]
    },
    {
      "cell_type": "code",
      "source": [
        "previsores_treinamento, previsores_teste, classe_treinamento, classe_teste = train_test_split(previsores,\n",
        "                                                                                             classe,\n",
        "                                                                                             test_size=0.25)"
      ],
      "metadata": {
        "id": "k_tnN4RMKnic"
      },
      "execution_count": null,
      "outputs": []
    },
    {
      "cell_type": "code",
      "source": [
        "previsores_treinamento.shape"
      ],
      "metadata": {
        "colab": {
          "base_uri": "https://localhost:8080/"
        },
        "id": "Li-AuXiyLI2t",
        "outputId": "44b39b6e-ff24-41d7-dd89-740f27695e6c"
      },
      "execution_count": null,
      "outputs": [
        {
          "output_type": "execute_result",
          "data": {
            "text/plain": [
              "(426, 30)"
            ]
          },
          "metadata": {},
          "execution_count": 16
        }
      ]
    },
    {
      "cell_type": "code",
      "source": [
        "classe_treinamento.shape"
      ],
      "metadata": {
        "colab": {
          "base_uri": "https://localhost:8080/"
        },
        "id": "zbF72IJBLNss",
        "outputId": "f117ce25-e537-4b55-eac5-124766ffab9d"
      },
      "execution_count": null,
      "outputs": [
        {
          "output_type": "execute_result",
          "data": {
            "text/plain": [
              "(426, 1)"
            ]
          },
          "metadata": {},
          "execution_count": 17
        }
      ]
    },
    {
      "cell_type": "code",
      "source": [
        "previsores_teste.shape"
      ],
      "metadata": {
        "colab": {
          "base_uri": "https://localhost:8080/"
        },
        "id": "c7mqfFaoLQaT",
        "outputId": "97f6df37-8b92-4b9a-9109-46c641de776d"
      },
      "execution_count": null,
      "outputs": [
        {
          "output_type": "execute_result",
          "data": {
            "text/plain": [
              "(143, 30)"
            ]
          },
          "metadata": {},
          "execution_count": 18
        }
      ]
    },
    {
      "cell_type": "code",
      "source": [
        "classe_teste.shape"
      ],
      "metadata": {
        "colab": {
          "base_uri": "https://localhost:8080/"
        },
        "id": "3kZIVBcHLR3e",
        "outputId": "1ac4b479-d5ed-4ba8-a5fb-1f6576ea4772"
      },
      "execution_count": null,
      "outputs": [
        {
          "output_type": "execute_result",
          "data": {
            "text/plain": [
              "(143, 1)"
            ]
          },
          "metadata": {},
          "execution_count": 19
        }
      ]
    },
    {
      "cell_type": "markdown",
      "source": [
        "#Transformação dos dados para tensores com pytorch"
      ],
      "metadata": {
        "id": "WXL4-DtJyQJ_"
      }
    },
    {
      "cell_type": "code",
      "source": [
        "type(previsores_treinamento)"
      ],
      "metadata": {
        "colab": {
          "base_uri": "https://localhost:8080/"
        },
        "id": "5vcc-_yyL-qR",
        "outputId": "7748160b-4ad7-4040-a016-27e9274e1eb8"
      },
      "execution_count": null,
      "outputs": [
        {
          "output_type": "execute_result",
          "data": {
            "text/plain": [
              "pandas.core.frame.DataFrame"
            ]
          },
          "metadata": {},
          "execution_count": 20
        }
      ]
    },
    {
      "cell_type": "code",
      "source": [
        "type(np.array(previsores_treinamento))"
      ],
      "metadata": {
        "colab": {
          "base_uri": "https://localhost:8080/"
        },
        "id": "CFArLpxWMGLy",
        "outputId": "e8dd9693-6e57-486c-945c-08053b806437"
      },
      "execution_count": null,
      "outputs": [
        {
          "output_type": "execute_result",
          "data": {
            "text/plain": [
              "numpy.ndarray"
            ]
          },
          "metadata": {},
          "execution_count": 21
        }
      ]
    },
    {
      "cell_type": "code",
      "source": [
        "#transformando para tensores do pytorch\n",
        "previsores_treinamento = torch.tensor(np.array(previsores_treinamento), dtype=torch.float)\n",
        "classe_treinamento = torch.tensor(np.array(classe_treinamento), dtype=torch.float)"
      ],
      "metadata": {
        "id": "U9w0d53QML-Q"
      },
      "execution_count": null,
      "outputs": []
    },
    {
      "cell_type": "code",
      "source": [
        "type(previsores_treinamento)"
      ],
      "metadata": {
        "colab": {
          "base_uri": "https://localhost:8080/"
        },
        "id": "UJPz0ANUNlTR",
        "outputId": "b09c153f-aa3c-49cc-f744-66d7e0803f60"
      },
      "execution_count": null,
      "outputs": [
        {
          "output_type": "execute_result",
          "data": {
            "text/plain": [
              "torch.Tensor"
            ]
          },
          "metadata": {},
          "execution_count": 23
        }
      ]
    },
    {
      "cell_type": "code",
      "source": [
        "type(classe_treinamento)"
      ],
      "metadata": {
        "colab": {
          "base_uri": "https://localhost:8080/"
        },
        "id": "a9_2C9qlNn04",
        "outputId": "a625c696-3ad0-4205-b3e1-408d60464e62"
      },
      "execution_count": null,
      "outputs": [
        {
          "output_type": "execute_result",
          "data": {
            "text/plain": [
              "torch.Tensor"
            ]
          },
          "metadata": {},
          "execution_count": 24
        }
      ]
    },
    {
      "cell_type": "code",
      "source": [
        "dataset = torch.utils.data.TensorDataset(previsores_treinamento, classe_treinamento)"
      ],
      "metadata": {
        "id": "Vl4LlQoCNqVj"
      },
      "execution_count": null,
      "outputs": []
    },
    {
      "cell_type": "code",
      "source": [
        "type(dataset)"
      ],
      "metadata": {
        "colab": {
          "base_uri": "https://localhost:8080/"
        },
        "id": "FYMZJrAVN5g3",
        "outputId": "10c82719-c04d-4547-887d-0c681e21d0a1"
      },
      "execution_count": null,
      "outputs": [
        {
          "output_type": "execute_result",
          "data": {
            "text/plain": [
              "torch.utils.data.dataset.TensorDataset"
            ]
          },
          "metadata": {},
          "execution_count": 26
        }
      ]
    },
    {
      "cell_type": "code",
      "source": [
        "train_loader = torch.utils.data.DataLoader(dataset, batch_size=10, shuffle=True) #Classe responsável por fornecer o número certo de dados de acordo com o tamanho do batch"
      ],
      "metadata": {
        "id": "zBJTSb4uOAr_"
      },
      "execution_count": null,
      "outputs": []
    },
    {
      "cell_type": "markdown",
      "source": [
        "## Construção do Modelo"
      ],
      "metadata": {
        "id": "OOvYbaekOqXN"
      }
    },
    {
      "cell_type": "code",
      "source": [
        "# 30 ->                                 (camada de entrada de acordo com a quantidade de atributos do dataset)\n",
        "# 30 -> 16 -> 16 -> 1                   (estrutura do nosso modelo)\n",
        "# (entradas + saida)/2 -> (30 + 1)/2 = 16\n",
        "\n",
        "classificador = nn.Sequential(\n",
        "\n",
        "    nn.Linear(in_features=30, out_features=16),                          #Linear - camada densa\n",
        "    nn.ReLU(),                                                           #Função de ativação\n",
        "\n",
        "    nn.Linear(16, 16),\n",
        "    nn.ReLU(),\n",
        "\n",
        "    nn.Linear(16, 1),\n",
        "    nn.Sigmoid()\n",
        ")"
      ],
      "metadata": {
        "id": "nsBh1qltOxyd"
      },
      "execution_count": null,
      "outputs": []
    },
    {
      "cell_type": "code",
      "source": [
        "classificador.parameters"
      ],
      "metadata": {
        "colab": {
          "base_uri": "https://localhost:8080/"
        },
        "id": "8tEVeo8tQSKU",
        "outputId": "303e9286-8b9f-41ce-a3cd-548c03677134"
      },
      "execution_count": null,
      "outputs": [
        {
          "output_type": "execute_result",
          "data": {
            "text/plain": [
              "<bound method Module.parameters of Sequential(\n",
              "  (0): Linear(in_features=30, out_features=16, bias=True)\n",
              "  (1): ReLU()\n",
              "  (2): Linear(in_features=16, out_features=16, bias=True)\n",
              "  (3): ReLU()\n",
              "  (4): Linear(in_features=16, out_features=1, bias=True)\n",
              "  (5): Sigmoid()\n",
              ")>"
            ]
          },
          "metadata": {},
          "execution_count": 29
        }
      ]
    },
    {
      "cell_type": "code",
      "source": [
        "criterion = nn.BCELoss()"
      ],
      "metadata": {
        "id": "hdhztfVCQvov"
      },
      "execution_count": null,
      "outputs": []
    },
    {
      "cell_type": "code",
      "source": [
        "optimizer = torch.optim.Adam(classificador.parameters(), lr=0.001, weight_decay=0.0001)"
      ],
      "metadata": {
        "id": "QjcaDHU3Q6Pi"
      },
      "execution_count": null,
      "outputs": []
    },
    {
      "cell_type": "markdown",
      "source": [
        "## Treinamento do Modelo"
      ],
      "metadata": {
        "id": "sBNXkJbwRYHb"
      }
    },
    {
      "cell_type": "code",
      "source": [
        "# fit -> keras\n",
        "\n",
        "for epoch in range(100):\n",
        "  runnin_loss = 0. #float\n",
        "  for data in train_loader:\n",
        "\n",
        "    inputs, labels = data\n",
        "\n",
        "    optimizer.zero_grad() #zerando optimizador\n",
        "\n",
        "    outputs = classificador(inputs)\n",
        "\n",
        "    loss = criterion(outputs, labels) #cálculo do erro\n",
        "\n",
        "    loss.backward() #backpropagation\n",
        "\n",
        "    optimizer.step() #atualizando pesos\n",
        "\n",
        "    runnin_loss += loss.item() # somando loss\n",
        "\n",
        "  print('Epoch %3d: Loss %.5f' % (epoch + 1, runnin_loss/len(train_loader)))\n",
        "\n"
      ],
      "metadata": {
        "colab": {
          "base_uri": "https://localhost:8080/"
        },
        "id": "lDQ9TtqVRa2R",
        "outputId": "cd70aafb-2d68-4a22-a6e0-375ce0f177f8"
      },
      "execution_count": null,
      "outputs": [
        {
          "output_type": "stream",
          "name": "stdout",
          "text": [
            "Epoch   1: Loss 1.51518\n",
            "Epoch   2: Loss 1.37313\n",
            "Epoch   3: Loss 1.17753\n",
            "Epoch   4: Loss 0.46702\n",
            "Epoch   5: Loss 0.45345\n",
            "Epoch   6: Loss 0.42015\n",
            "Epoch   7: Loss 0.41441\n",
            "Epoch   8: Loss 0.41818\n",
            "Epoch   9: Loss 0.41451\n",
            "Epoch  10: Loss 0.40360\n",
            "Epoch  11: Loss 0.40899\n",
            "Epoch  12: Loss 0.42292\n",
            "Epoch  13: Loss 0.40394\n",
            "Epoch  14: Loss 0.39880\n",
            "Epoch  15: Loss 0.41182\n",
            "Epoch  16: Loss 0.40407\n",
            "Epoch  17: Loss 0.40796\n",
            "Epoch  18: Loss 0.39543\n",
            "Epoch  19: Loss 0.44293\n",
            "Epoch  20: Loss 0.38772\n",
            "Epoch  21: Loss 0.39084\n",
            "Epoch  22: Loss 0.39196\n",
            "Epoch  23: Loss 0.41380\n",
            "Epoch  24: Loss 0.38919\n",
            "Epoch  25: Loss 0.37615\n",
            "Epoch  26: Loss 0.46295\n",
            "Epoch  27: Loss 0.40813\n",
            "Epoch  28: Loss 0.38460\n",
            "Epoch  29: Loss 0.38737\n",
            "Epoch  30: Loss 0.40433\n",
            "Epoch  31: Loss 0.39000\n",
            "Epoch  32: Loss 0.39384\n",
            "Epoch  33: Loss 0.45112\n",
            "Epoch  34: Loss 0.47273\n",
            "Epoch  35: Loss 0.39728\n",
            "Epoch  36: Loss 0.37407\n",
            "Epoch  37: Loss 0.38767\n",
            "Epoch  38: Loss 0.38713\n",
            "Epoch  39: Loss 0.37857\n",
            "Epoch  40: Loss 0.36122\n",
            "Epoch  41: Loss 0.39375\n",
            "Epoch  42: Loss 0.37700\n",
            "Epoch  43: Loss 0.41354\n",
            "Epoch  44: Loss 0.38415\n",
            "Epoch  45: Loss 0.40912\n",
            "Epoch  46: Loss 0.38422\n",
            "Epoch  47: Loss 0.36684\n",
            "Epoch  48: Loss 0.42262\n",
            "Epoch  49: Loss 0.41098\n",
            "Epoch  50: Loss 0.41643\n",
            "Epoch  51: Loss 0.37400\n",
            "Epoch  52: Loss 0.35700\n",
            "Epoch  53: Loss 0.37044\n",
            "Epoch  54: Loss 0.37180\n",
            "Epoch  55: Loss 0.38216\n",
            "Epoch  56: Loss 0.35895\n",
            "Epoch  57: Loss 0.35004\n",
            "Epoch  58: Loss 0.35070\n",
            "Epoch  59: Loss 0.35459\n",
            "Epoch  60: Loss 0.36228\n",
            "Epoch  61: Loss 0.41127\n",
            "Epoch  62: Loss 0.36552\n",
            "Epoch  63: Loss 0.36486\n",
            "Epoch  64: Loss 0.49259\n",
            "Epoch  65: Loss 0.22929\n",
            "Epoch  66: Loss 0.15753\n",
            "Epoch  67: Loss 0.16955\n",
            "Epoch  68: Loss 0.21647\n",
            "Epoch  69: Loss 0.19040\n",
            "Epoch  70: Loss 0.16528\n",
            "Epoch  71: Loss 0.14882\n",
            "Epoch  72: Loss 0.13600\n",
            "Epoch  73: Loss 0.15268\n",
            "Epoch  74: Loss 0.16806\n",
            "Epoch  75: Loss 0.19972\n",
            "Epoch  76: Loss 0.17746\n",
            "Epoch  77: Loss 0.15439\n",
            "Epoch  78: Loss 0.15081\n",
            "Epoch  79: Loss 0.11971\n",
            "Epoch  80: Loss 0.15840\n",
            "Epoch  81: Loss 0.12276\n",
            "Epoch  82: Loss 0.13867\n",
            "Epoch  83: Loss 0.21059\n",
            "Epoch  84: Loss 0.17693\n",
            "Epoch  85: Loss 0.11158\n",
            "Epoch  86: Loss 0.11702\n",
            "Epoch  87: Loss 0.10070\n",
            "Epoch  88: Loss 0.11357\n",
            "Epoch  89: Loss 0.15135\n",
            "Epoch  90: Loss 0.12544\n",
            "Epoch  91: Loss 0.10944\n",
            "Epoch  92: Loss 0.11051\n",
            "Epoch  93: Loss 0.12015\n",
            "Epoch  94: Loss 0.11639\n",
            "Epoch  95: Loss 0.10240\n",
            "Epoch  96: Loss 0.10459\n",
            "Epoch  97: Loss 0.11941\n",
            "Epoch  98: Loss 0.10201\n",
            "Epoch  99: Loss 0.10576\n",
            "Epoch 100: Loss 0.10913\n"
          ]
        }
      ]
    },
    {
      "cell_type": "markdown",
      "source": [
        "## Visualização dos Pesos"
      ],
      "metadata": {
        "id": "B85ppMtkUtOj"
      }
    },
    {
      "cell_type": "code",
      "source": [
        "# 30 -> 16 -> 16 -> 1\n",
        "\n",
        "params = list(classificador.parameters())"
      ],
      "metadata": {
        "id": "dS2nK3zSUs9Z"
      },
      "execution_count": null,
      "outputs": []
    },
    {
      "cell_type": "code",
      "source": [
        "params"
      ],
      "metadata": {
        "colab": {
          "base_uri": "https://localhost:8080/"
        },
        "id": "mhKkddvMV41_",
        "outputId": "d22535e6-a31c-4358-a15a-a1e77aeb1265"
      },
      "execution_count": null,
      "outputs": [
        {
          "output_type": "execute_result",
          "data": {
            "text/plain": [
              "[Parameter containing:\n",
              " tensor([[-6.5726e-02, -1.3250e-01, -1.1543e-01,  9.7306e-02, -5.5827e-02,\n",
              "           7.2349e-02, -7.0779e-02, -5.1201e-02, -2.6780e-01,  7.0585e-02,\n",
              "           5.1058e-02,  2.6027e-02, -1.7242e-01, -2.6746e-02,  5.9645e-04,\n",
              "          -1.7268e-01, -2.7165e-01, -7.2375e-02, -1.7675e-01,  1.4501e-04,\n",
              "           1.3932e-01, -1.3133e-01,  1.4250e-02,  1.8267e-01, -1.3170e-01,\n",
              "           1.2603e-01, -1.5439e-01,  1.8953e-01,  3.1906e-01, -1.3036e-01],\n",
              "         [ 1.9333e-01,  1.9529e-01,  3.0178e-01,  8.3539e-02, -1.6293e-01,\n",
              "          -1.0139e-01, -1.0604e-01, -1.8043e-01, -4.8438e-02,  1.3989e-01,\n",
              "           1.0773e-02, -7.5763e-02, -9.1847e-03,  2.0485e-01, -1.7090e-02,\n",
              "          -1.1943e-01, -5.5953e-02,  2.7627e-01,  1.2012e-01, -1.8767e-02,\n",
              "           9.2927e-02,  4.8225e-02,  2.1042e-01,  7.3262e-03,  8.6809e-02,\n",
              "          -2.2976e-01, -3.2276e-01, -5.0865e-02, -6.9487e-02, -1.4413e-01],\n",
              "         [-1.1060e-02,  3.1774e-02, -1.2993e-01, -1.0962e-01,  6.1701e-39,\n",
              "           5.3613e-40,  2.0227e-39, -6.9919e-39, -7.8837e-40, -1.5965e-39,\n",
              "          -1.4204e-35,  3.6962e-02, -9.1372e-02, -6.2975e-02,  4.1151e-39,\n",
              "           1.7099e-39,  4.4319e-40,  4.7402e-39, -1.1855e-42,  4.4785e-39,\n",
              "           3.5642e-02, -1.8381e-02, -2.6532e-02, -3.2736e-02,  3.2390e-39,\n",
              "           5.2474e-33, -5.1707e-35, -1.3709e-39,  4.2299e-02, -2.2891e-39],\n",
              "         [-3.9884e-01,  8.6234e-02, -1.7574e-01,  9.5476e-02, -3.3472e-01,\n",
              "           6.1771e-02,  1.8615e-02,  3.0485e-02,  1.4455e-01, -1.4564e-01,\n",
              "           2.1277e-01, -1.4641e-01,  3.7616e-02, -1.4176e-02,  1.7096e-03,\n",
              "           4.5342e-02,  3.5480e-02, -8.6002e-02,  6.8457e-02,  4.0836e-03,\n",
              "           6.6354e-02, -9.8410e-02, -1.0082e-01,  1.6204e-02,  2.5047e-01,\n",
              "           8.7298e-02, -6.5619e-03,  2.7905e-01,  1.9699e-01,  3.9049e-01],\n",
              "         [-4.4454e-01,  3.8449e-02, -1.3878e-01, -1.3746e-01,  3.1201e-01,\n",
              "           6.0587e-03,  9.1945e-02, -2.7551e-01, -2.7366e-01,  1.1201e-01,\n",
              "          -1.2195e-01, -1.0791e-02,  2.0921e-03,  7.4291e-02,  3.4155e-02,\n",
              "          -5.5827e-02, -3.3629e-01, -2.3991e-01,  3.6630e-01,  4.2527e-01,\n",
              "          -3.1291e-01,  8.6948e-02, -1.7801e-01,  2.2593e-01,  1.0482e-01,\n",
              "          -1.3977e-01, -2.9835e-01, -1.1025e-01, -6.7987e-02,  4.6355e-01],\n",
              "         [-2.7662e-01, -2.3822e-01, -1.4895e-01,  4.4042e-03,  5.0232e-02,\n",
              "           1.0423e-01, -1.1188e-01,  1.6398e-03, -1.5824e-01,  3.1876e-01,\n",
              "          -4.3202e-02,  7.9758e-02, -1.3918e-01,  1.3681e-01, -3.0484e-03,\n",
              "          -2.7129e-01, -5.1429e-02,  7.9010e-03, -2.9043e-01,  6.7576e-04,\n",
              "          -3.0553e-02, -3.2486e-01, -1.7058e-01, -1.0457e-01, -3.0820e-01,\n",
              "          -1.2353e-01, -1.7824e-01, -1.3696e-01,  7.7979e-02,  1.1449e-02],\n",
              "         [ 2.0339e-01, -6.0974e-02,  2.9865e-01, -1.2161e-01, -3.0497e-01,\n",
              "          -5.8394e-01, -2.0076e-02, -1.2295e-02,  4.2546e-01, -1.4526e-03,\n",
              "          -1.2438e-01, -2.6340e-01,  6.3837e-02,  9.1494e-02, -5.7440e-03,\n",
              "          -3.6517e-02,  7.0179e-03, -1.2829e-02,  2.5633e-01, -6.4127e-03,\n",
              "           2.3491e-03, -1.7309e-01,  1.9807e-01, -1.0284e-01, -2.3069e-01,\n",
              "           1.5898e-01,  1.6980e-01, -1.2584e-01, -3.0363e-01,  3.7410e-02],\n",
              "         [-3.0179e-01,  4.0286e-02, -1.4374e-01, -1.6008e-01,  2.0572e-01,\n",
              "           1.7546e-02, -1.1663e-01, -8.7960e-02,  8.5055e-02, -4.4770e-02,\n",
              "          -5.8632e-02, -1.3464e-01,  7.2161e-02,  1.5277e-01,  5.7118e-03,\n",
              "           6.2103e-02, -1.0743e-01,  1.6412e-02, -1.7491e-01,  1.0526e-02,\n",
              "          -2.2741e-01,  1.4404e-01, -3.0539e-01,  9.6453e-02, -1.0554e-01,\n",
              "          -2.9351e-01,  5.5865e-02,  2.5537e-01, -4.4098e-02,  1.6534e-01],\n",
              "         [-8.3693e-02, -1.7821e-01, -3.8100e-01, -2.3688e-02,  3.0224e-01,\n",
              "           1.3482e-01, -2.1304e-01, -1.6063e-01,  9.4510e-02, -1.4487e-01,\n",
              "           2.4827e-01, -7.0522e-02,  1.0557e-01,  2.9699e-03,  1.3970e-02,\n",
              "           8.7291e-02,  3.2729e-02, -3.9329e-01,  4.4369e-01,  1.2503e-01,\n",
              "          -3.7710e-01, -2.2520e-02, -2.9196e-01,  2.1820e-01,  9.7331e-02,\n",
              "           1.7473e-01, -2.5624e-02,  2.2317e-01,  1.2599e-01,  2.8068e-01],\n",
              "         [-8.8308e-03,  9.4021e-02,  3.2565e-01,  6.5175e-03, -2.3205e-01,\n",
              "          -6.4887e-02,  3.7948e-03,  2.0087e-02, -1.0212e-01,  9.4101e-02,\n",
              "           1.1070e-01, -1.5686e-01,  1.5647e-01, -1.7426e-01, -2.4635e-02,\n",
              "          -1.1857e-01,  3.6174e-01,  2.4930e-01,  6.8681e-02, -2.5487e-01,\n",
              "           1.9455e-01, -2.0173e-01,  3.5422e-01, -6.4703e-02, -4.6060e-02,\n",
              "          -8.2659e-02,  8.4763e-03, -1.1576e-01,  9.8358e-02, -2.0188e-01],\n",
              "         [-5.9019e-02,  1.2195e-01,  1.0057e-01,  1.7989e-03, -2.7005e-02,\n",
              "          -1.2705e-01, -1.7114e-01, -3.3943e-02,  1.4374e-01,  1.2693e-01,\n",
              "           2.7731e-02, -3.1161e-02, -1.1612e-01,  2.0718e-01, -3.0270e-03,\n",
              "           7.6052e-02,  1.6522e-02,  3.3760e-02, -2.3315e-01, -1.5733e-06,\n",
              "          -1.4796e-01,  7.9006e-02,  1.1087e-01,  1.2903e-01,  2.5716e-01,\n",
              "          -4.1589e-01,  3.1367e-01,  2.1062e-01, -1.5514e-01, -1.2076e-02],\n",
              "         [ 6.6144e-02, -5.7116e-02,  6.8216e-02,  1.7281e-01, -1.4004e-01,\n",
              "           3.0850e-01, -3.5714e-01,  5.6664e-01,  3.2015e-01,  5.6307e-02,\n",
              "           1.6967e-01,  1.0598e-01, -6.7097e-02, -2.2020e-01, -2.0011e-03,\n",
              "           2.7922e-01,  1.6806e-01,  4.0717e-02, -2.9452e-01, -3.5190e-01,\n",
              "           1.9949e-01, -1.4900e-01,  2.3036e-01, -1.1798e-01, -1.9120e-01,\n",
              "           8.6247e-02, -2.2690e-01,  2.4492e-01,  2.5081e-02, -2.7796e-01],\n",
              "         [ 1.1678e-01,  1.5555e-01, -3.3371e-01, -8.3714e-02,  3.0369e-01,\n",
              "           6.2187e-02,  7.1798e-02,  1.9931e-01,  4.0091e-02, -4.4370e-02,\n",
              "           1.2956e-01, -3.1853e-02,  9.8465e-02,  7.5531e-02,  1.1612e-02,\n",
              "           9.0462e-02,  5.2210e-02, -8.9696e-02, -2.6984e-01,  4.9338e-02,\n",
              "           6.3064e-02,  2.3899e-01, -1.1116e-01,  1.2155e-02, -3.4805e-01,\n",
              "           3.1321e-01, -1.2771e-01, -6.9698e-03,  2.5593e-02,  3.2368e-01],\n",
              "         [ 8.1789e-02, -2.3744e-01, -1.5862e-01, -4.0814e-03,  3.2214e-03,\n",
              "          -4.6149e-02, -8.8683e-02,  3.4056e-02, -1.3636e-01, -8.3598e-02,\n",
              "           1.1435e-01, -1.3546e-01, -1.6326e-01,  1.2491e-01,  9.5909e-04,\n",
              "           1.0903e-02,  1.2512e-01, -1.5270e-01,  3.6442e-03,  7.1374e-04,\n",
              "           1.1800e-01, -1.7830e-01, -1.5106e-01,  9.7173e-02, -1.1419e-01,\n",
              "          -1.6048e-01, -2.0833e-01,  1.0620e-01,  6.4962e-03,  1.1853e-03],\n",
              "         [ 8.1439e-02, -1.5318e-02,  5.8559e-02, -1.2960e-01,  3.1120e-20,\n",
              "          -8.5958e-21,  3.6568e-22,  9.5795e-22, -7.3554e-12,  2.3924e-20,\n",
              "          -6.4263e-08, -2.0748e-02, -2.0109e-02, -4.6487e-02, -4.1480e-21,\n",
              "          -1.0227e-21, -1.3981e-21,  2.3951e-21, -8.1698e-22,  8.4734e-23,\n",
              "           8.6058e-02,  9.2951e-02, -1.0130e-01, -1.7075e-01,  1.0799e-16,\n",
              "          -3.1742e-11, -2.4128e-11,  5.3323e-21, -1.2649e-01, -6.1651e-21],\n",
              "         [-3.9758e-03, -7.5410e-03, -9.7983e-03, -1.5112e-02, -5.5063e-39,\n",
              "          -1.5642e-08, -1.4843e-02, -4.2308e-03,  5.5590e-04,  1.3044e-40,\n",
              "           3.9021e-02, -2.5005e-02, -2.5376e-02, -1.5250e-02,  1.4706e-39,\n",
              "           6.3547e-39,  2.4459e-39,  5.2988e-11, -2.1130e-41,  6.0286e-39,\n",
              "          -5.4659e-03, -1.1499e-02, -1.1867e-02, -1.8474e-02, -2.4841e-02,\n",
              "          -1.9580e-02,  1.4353e-03, -1.3005e-02, -1.4335e-02, -7.1454e-03]],\n",
              "        requires_grad=True),\n",
              " Parameter containing:\n",
              " tensor([-1.0231e-01,  2.9832e-01, -3.7463e-10, -2.9835e-01, -8.0282e-01,\n",
              "         -1.9909e-01,  1.7805e-01, -3.0871e-01, -4.0252e-01,  5.1055e-01,\n",
              "         -9.3606e-02,  2.7753e-01, -3.6697e-01, -1.0372e-01, -7.5064e-05,\n",
              "         -3.2087e-09], requires_grad=True),\n",
              " Parameter containing:\n",
              " tensor([[-4.5750e-02, -1.9675e-02, -9.8709e-03,  3.5434e-02, -1.6668e-01,\n",
              "          -5.9641e-03, -9.0386e-03,  5.6236e-39, -1.6257e-01, -1.9392e-01,\n",
              "          -2.0845e-01,  5.1921e-02,  1.6637e-01,  2.2160e-01,  5.2000e-02,\n",
              "          -2.1995e-39],\n",
              "         [-9.6510e-21, -1.5670e-39, -7.0227e-39, -2.7887e-12, -1.3110e-07,\n",
              "          -3.7470e-39,  5.4474e-39, -6.0510e-11, -5.4752e-03, -3.9790e-03,\n",
              "           2.9816e-36, -2.0294e-05, -4.3568e-03, -1.8302e-39,  2.2949e-39,\n",
              "           9.1383e-40],\n",
              "         [ 2.1691e-01, -4.2327e-02,  9.0425e-02,  1.5302e-01,  3.4263e-01,\n",
              "           1.1104e-02, -7.8664e-02, -9.1923e-02,  2.3447e-01,  6.3985e-02,\n",
              "          -1.7696e-02, -2.8060e-02,  2.4194e-01,  6.1888e-02,  8.3777e-02,\n",
              "           2.5068e-02],\n",
              "         [-1.4051e-01,  5.9641e-02,  2.9460e-02, -2.0694e-01, -3.9182e-02,\n",
              "          -1.1095e-01,  4.7381e-02, -6.0928e-02,  1.9685e-01,  6.5793e-02,\n",
              "          -4.3699e-01,  3.0722e-01,  1.3827e-01,  1.2417e-01,  1.0257e-01,\n",
              "          -2.7246e-02],\n",
              "         [-8.3544e-02,  9.0986e-02, -3.9561e-02, -3.0815e-01, -8.4847e-02,\n",
              "          -1.4976e-01,  1.1773e-01,  1.7051e-01,  2.6021e-02,  3.5021e-02,\n",
              "          -1.4564e-01,  1.8186e-01, -8.8375e-02, -9.4428e-02, -1.1208e-01,\n",
              "           1.0432e-03],\n",
              "         [ 1.0849e-01, -1.3989e-01, -2.5554e-02, -2.8255e-01,  7.4887e-04,\n",
              "           2.5399e-01, -2.5203e-05,  1.0492e-39,  6.9294e-02, -8.3268e-03,\n",
              "          -3.2044e-02,  1.5895e-01, -5.5402e-01, -1.9847e-02,  2.4620e-02,\n",
              "          -1.9002e-07],\n",
              "         [-1.7092e-01, -7.3200e-02, -3.5372e-04, -4.7633e-02,  5.6377e-02,\n",
              "           8.0231e-02,  5.1711e-02, -9.1332e-02, -2.0497e-01, -2.1952e-01,\n",
              "           1.5906e-02,  8.2154e-03,  1.8029e-01,  1.8873e-01,  6.9892e-02,\n",
              "          -1.5712e-39],\n",
              "         [ 7.3348e-02,  9.0201e-02,  4.8651e-04, -8.0284e-02, -3.5364e-01,\n",
              "          -1.7270e-02,  4.2665e-03, -2.6253e-01, -3.5004e-02,  1.9259e-01,\n",
              "           4.2453e-02,  2.4921e-01, -1.5542e-02, -2.3878e-01, -3.8588e-39,\n",
              "          -2.5015e-02],\n",
              "         [-1.7987e-01,  1.9752e-01, -1.1298e-01, -1.5258e-01,  1.9482e-01,\n",
              "           1.3466e-01,  1.2683e-01,  9.0833e-02, -8.8570e-02, -7.7810e-02,\n",
              "           9.0713e-02,  5.1179e-03, -3.4488e-02,  2.2225e-01, -1.4047e-01,\n",
              "           2.7513e-02],\n",
              "         [ 1.7884e-01,  9.9869e-02, -1.4261e-01,  9.5987e-02, -1.1316e-01,\n",
              "           4.6545e-02,  2.0820e-01, -2.0957e-01, -1.1799e-01,  2.0229e-01,\n",
              "          -2.0124e-01, -9.4642e-02, -9.3318e-02, -5.2467e-02, -3.0920e-03,\n",
              "           1.0886e-02],\n",
              "         [ 7.0375e-02, -4.3907e-02,  5.6272e-03, -3.5426e-01, -3.6455e-01,\n",
              "          -1.2740e-01,  3.6203e-02,  1.2462e-01, -3.4182e-02, -6.6454e-02,\n",
              "           1.8092e-01, -1.2563e-02,  2.4647e-01,  1.8369e-01,  2.0256e-02,\n",
              "          -1.7016e-02],\n",
              "         [ 7.7530e-02, -4.0949e-02,  5.3135e-03,  8.5981e-02, -2.4213e-02,\n",
              "           8.5721e-02, -2.0028e-39, -6.1932e-39, -3.2504e-01, -1.6248e-02,\n",
              "          -8.7399e-02,  9.3976e-02, -1.1842e-01, -1.6861e-01, -3.2447e-39,\n",
              "          -1.7210e-39],\n",
              "         [-1.4472e-01, -6.8175e-02,  7.9233e-02, -1.5506e-01, -1.0952e-01,\n",
              "          -1.4813e-01,  4.9793e-02,  3.9090e-02,  1.7659e-01, -4.0770e-02,\n",
              "           1.6975e-01,  7.4308e-02,  7.0687e-02, -1.4414e-01, -5.2654e-03,\n",
              "           2.6855e-02],\n",
              "         [-1.5888e-01,  2.3479e-01,  7.8315e-02, -8.0413e-02, -8.6335e-02,\n",
              "           1.1363e-01, -1.6606e-01,  1.0963e-02, -1.2468e-01,  2.6568e-02,\n",
              "           4.8536e-02,  8.0566e-02, -2.7132e-02,  3.9183e-02, -9.6507e-02,\n",
              "           3.7285e-39],\n",
              "         [-8.6332e-03,  2.3240e-01,  2.0120e-01, -5.8299e-02, -1.4378e-01,\n",
              "          -1.1765e-01, -1.4768e-01,  5.8741e-02, -1.8714e-01, -3.4505e-02,\n",
              "           1.7502e-01,  2.8697e-02, -7.5774e-02, -2.3940e-01,  8.0076e-02,\n",
              "           2.7088e-02],\n",
              "         [-1.6242e-02, -4.2291e-02,  8.2786e-40, -3.5713e-02, -9.2839e-02,\n",
              "           1.1525e-01, -1.4005e-02, -1.9803e-02, -5.4057e-02, -4.4575e-02,\n",
              "          -1.8889e-02,  3.4557e-02, -2.1248e-02, -3.6023e-03,  6.2658e-37,\n",
              "          -2.7407e-39]], requires_grad=True),\n",
              " Parameter containing:\n",
              " tensor([-5.5418e-02, -4.7645e-39, -8.5102e-01,  5.1735e-01,  9.9375e-02,\n",
              "         -2.3932e-01,  1.2178e-02,  9.8378e-01, -3.2980e-02,  6.2520e-01,\n",
              "          2.3678e-01, -1.3434e-02, -5.7080e-01,  2.7553e-01,  4.4106e-01,\n",
              "         -1.3490e-01], requires_grad=True),\n",
              " Parameter containing:\n",
              " tensor([[-0.1085, -0.0050, -0.1034,  0.1315,  0.0080, -0.1302, -0.1473,  0.0846,\n",
              "           0.1682,  0.2247,  0.1370,  0.1398, -0.0404,  0.1921,  0.1449, -0.0181]],\n",
              "        requires_grad=True),\n",
              " Parameter containing:\n",
              " tensor([0.7568], requires_grad=True)]"
            ]
          },
          "metadata": {},
          "execution_count": 37
        }
      ]
    },
    {
      "cell_type": "code",
      "source": [
        "pesos0 = params[0] # primeira camada oculta\n",
        "pesos0.shape"
      ],
      "metadata": {
        "colab": {
          "base_uri": "https://localhost:8080/"
        },
        "id": "QmBVSf7BV9YB",
        "outputId": "e0ef4e8c-b229-4c96-95e4-e5f53b78805d"
      },
      "execution_count": null,
      "outputs": [
        {
          "output_type": "execute_result",
          "data": {
            "text/plain": [
              "torch.Size([16, 30])"
            ]
          },
          "metadata": {},
          "execution_count": 39
        }
      ]
    },
    {
      "cell_type": "code",
      "source": [
        "print(pesos0)"
      ],
      "metadata": {
        "colab": {
          "base_uri": "https://localhost:8080/"
        },
        "id": "8bNc61YiWIEl",
        "outputId": "f5e53444-763c-4035-9483-b06c0ede1700"
      },
      "execution_count": null,
      "outputs": [
        {
          "output_type": "stream",
          "name": "stdout",
          "text": [
            "Parameter containing:\n",
            "tensor([[-6.5726e-02, -1.3250e-01, -1.1543e-01,  9.7306e-02, -5.5827e-02,\n",
            "          7.2349e-02, -7.0779e-02, -5.1201e-02, -2.6780e-01,  7.0585e-02,\n",
            "          5.1058e-02,  2.6027e-02, -1.7242e-01, -2.6746e-02,  5.9645e-04,\n",
            "         -1.7268e-01, -2.7165e-01, -7.2375e-02, -1.7675e-01,  1.4501e-04,\n",
            "          1.3932e-01, -1.3133e-01,  1.4250e-02,  1.8267e-01, -1.3170e-01,\n",
            "          1.2603e-01, -1.5439e-01,  1.8953e-01,  3.1906e-01, -1.3036e-01],\n",
            "        [ 1.9333e-01,  1.9529e-01,  3.0178e-01,  8.3539e-02, -1.6293e-01,\n",
            "         -1.0139e-01, -1.0604e-01, -1.8043e-01, -4.8438e-02,  1.3989e-01,\n",
            "          1.0773e-02, -7.5763e-02, -9.1847e-03,  2.0485e-01, -1.7090e-02,\n",
            "         -1.1943e-01, -5.5953e-02,  2.7627e-01,  1.2012e-01, -1.8767e-02,\n",
            "          9.2927e-02,  4.8225e-02,  2.1042e-01,  7.3262e-03,  8.6809e-02,\n",
            "         -2.2976e-01, -3.2276e-01, -5.0865e-02, -6.9487e-02, -1.4413e-01],\n",
            "        [-1.1060e-02,  3.1774e-02, -1.2993e-01, -1.0962e-01,  6.1701e-39,\n",
            "          5.3613e-40,  2.0227e-39, -6.9919e-39, -7.8837e-40, -1.5965e-39,\n",
            "         -1.4204e-35,  3.6962e-02, -9.1372e-02, -6.2975e-02,  4.1151e-39,\n",
            "          1.7099e-39,  4.4319e-40,  4.7402e-39, -1.1855e-42,  4.4785e-39,\n",
            "          3.5642e-02, -1.8381e-02, -2.6532e-02, -3.2736e-02,  3.2390e-39,\n",
            "          5.2474e-33, -5.1707e-35, -1.3709e-39,  4.2299e-02, -2.2891e-39],\n",
            "        [-3.9884e-01,  8.6234e-02, -1.7574e-01,  9.5476e-02, -3.3472e-01,\n",
            "          6.1771e-02,  1.8615e-02,  3.0485e-02,  1.4455e-01, -1.4564e-01,\n",
            "          2.1277e-01, -1.4641e-01,  3.7616e-02, -1.4176e-02,  1.7096e-03,\n",
            "          4.5342e-02,  3.5480e-02, -8.6002e-02,  6.8457e-02,  4.0836e-03,\n",
            "          6.6354e-02, -9.8410e-02, -1.0082e-01,  1.6204e-02,  2.5047e-01,\n",
            "          8.7298e-02, -6.5619e-03,  2.7905e-01,  1.9699e-01,  3.9049e-01],\n",
            "        [-4.4454e-01,  3.8449e-02, -1.3878e-01, -1.3746e-01,  3.1201e-01,\n",
            "          6.0587e-03,  9.1945e-02, -2.7551e-01, -2.7366e-01,  1.1201e-01,\n",
            "         -1.2195e-01, -1.0791e-02,  2.0921e-03,  7.4291e-02,  3.4155e-02,\n",
            "         -5.5827e-02, -3.3629e-01, -2.3991e-01,  3.6630e-01,  4.2527e-01,\n",
            "         -3.1291e-01,  8.6948e-02, -1.7801e-01,  2.2593e-01,  1.0482e-01,\n",
            "         -1.3977e-01, -2.9835e-01, -1.1025e-01, -6.7987e-02,  4.6355e-01],\n",
            "        [-2.7662e-01, -2.3822e-01, -1.4895e-01,  4.4042e-03,  5.0232e-02,\n",
            "          1.0423e-01, -1.1188e-01,  1.6398e-03, -1.5824e-01,  3.1876e-01,\n",
            "         -4.3202e-02,  7.9758e-02, -1.3918e-01,  1.3681e-01, -3.0484e-03,\n",
            "         -2.7129e-01, -5.1429e-02,  7.9010e-03, -2.9043e-01,  6.7576e-04,\n",
            "         -3.0553e-02, -3.2486e-01, -1.7058e-01, -1.0457e-01, -3.0820e-01,\n",
            "         -1.2353e-01, -1.7824e-01, -1.3696e-01,  7.7979e-02,  1.1449e-02],\n",
            "        [ 2.0339e-01, -6.0974e-02,  2.9865e-01, -1.2161e-01, -3.0497e-01,\n",
            "         -5.8394e-01, -2.0076e-02, -1.2295e-02,  4.2546e-01, -1.4526e-03,\n",
            "         -1.2438e-01, -2.6340e-01,  6.3837e-02,  9.1494e-02, -5.7440e-03,\n",
            "         -3.6517e-02,  7.0179e-03, -1.2829e-02,  2.5633e-01, -6.4127e-03,\n",
            "          2.3491e-03, -1.7309e-01,  1.9807e-01, -1.0284e-01, -2.3069e-01,\n",
            "          1.5898e-01,  1.6980e-01, -1.2584e-01, -3.0363e-01,  3.7410e-02],\n",
            "        [-3.0179e-01,  4.0286e-02, -1.4374e-01, -1.6008e-01,  2.0572e-01,\n",
            "          1.7546e-02, -1.1663e-01, -8.7960e-02,  8.5055e-02, -4.4770e-02,\n",
            "         -5.8632e-02, -1.3464e-01,  7.2161e-02,  1.5277e-01,  5.7118e-03,\n",
            "          6.2103e-02, -1.0743e-01,  1.6412e-02, -1.7491e-01,  1.0526e-02,\n",
            "         -2.2741e-01,  1.4404e-01, -3.0539e-01,  9.6453e-02, -1.0554e-01,\n",
            "         -2.9351e-01,  5.5865e-02,  2.5537e-01, -4.4098e-02,  1.6534e-01],\n",
            "        [-8.3693e-02, -1.7821e-01, -3.8100e-01, -2.3688e-02,  3.0224e-01,\n",
            "          1.3482e-01, -2.1304e-01, -1.6063e-01,  9.4510e-02, -1.4487e-01,\n",
            "          2.4827e-01, -7.0522e-02,  1.0557e-01,  2.9699e-03,  1.3970e-02,\n",
            "          8.7291e-02,  3.2729e-02, -3.9329e-01,  4.4369e-01,  1.2503e-01,\n",
            "         -3.7710e-01, -2.2520e-02, -2.9196e-01,  2.1820e-01,  9.7331e-02,\n",
            "          1.7473e-01, -2.5624e-02,  2.2317e-01,  1.2599e-01,  2.8068e-01],\n",
            "        [-8.8308e-03,  9.4021e-02,  3.2565e-01,  6.5175e-03, -2.3205e-01,\n",
            "         -6.4887e-02,  3.7948e-03,  2.0087e-02, -1.0212e-01,  9.4101e-02,\n",
            "          1.1070e-01, -1.5686e-01,  1.5647e-01, -1.7426e-01, -2.4635e-02,\n",
            "         -1.1857e-01,  3.6174e-01,  2.4930e-01,  6.8681e-02, -2.5487e-01,\n",
            "          1.9455e-01, -2.0173e-01,  3.5422e-01, -6.4703e-02, -4.6060e-02,\n",
            "         -8.2659e-02,  8.4763e-03, -1.1576e-01,  9.8358e-02, -2.0188e-01],\n",
            "        [-5.9019e-02,  1.2195e-01,  1.0057e-01,  1.7989e-03, -2.7005e-02,\n",
            "         -1.2705e-01, -1.7114e-01, -3.3943e-02,  1.4374e-01,  1.2693e-01,\n",
            "          2.7731e-02, -3.1161e-02, -1.1612e-01,  2.0718e-01, -3.0270e-03,\n",
            "          7.6052e-02,  1.6522e-02,  3.3760e-02, -2.3315e-01, -1.5733e-06,\n",
            "         -1.4796e-01,  7.9006e-02,  1.1087e-01,  1.2903e-01,  2.5716e-01,\n",
            "         -4.1589e-01,  3.1367e-01,  2.1062e-01, -1.5514e-01, -1.2076e-02],\n",
            "        [ 6.6144e-02, -5.7116e-02,  6.8216e-02,  1.7281e-01, -1.4004e-01,\n",
            "          3.0850e-01, -3.5714e-01,  5.6664e-01,  3.2015e-01,  5.6307e-02,\n",
            "          1.6967e-01,  1.0598e-01, -6.7097e-02, -2.2020e-01, -2.0011e-03,\n",
            "          2.7922e-01,  1.6806e-01,  4.0717e-02, -2.9452e-01, -3.5190e-01,\n",
            "          1.9949e-01, -1.4900e-01,  2.3036e-01, -1.1798e-01, -1.9120e-01,\n",
            "          8.6247e-02, -2.2690e-01,  2.4492e-01,  2.5081e-02, -2.7796e-01],\n",
            "        [ 1.1678e-01,  1.5555e-01, -3.3371e-01, -8.3714e-02,  3.0369e-01,\n",
            "          6.2187e-02,  7.1798e-02,  1.9931e-01,  4.0091e-02, -4.4370e-02,\n",
            "          1.2956e-01, -3.1853e-02,  9.8465e-02,  7.5531e-02,  1.1612e-02,\n",
            "          9.0462e-02,  5.2210e-02, -8.9696e-02, -2.6984e-01,  4.9338e-02,\n",
            "          6.3064e-02,  2.3899e-01, -1.1116e-01,  1.2155e-02, -3.4805e-01,\n",
            "          3.1321e-01, -1.2771e-01, -6.9698e-03,  2.5593e-02,  3.2368e-01],\n",
            "        [ 8.1789e-02, -2.3744e-01, -1.5862e-01, -4.0814e-03,  3.2214e-03,\n",
            "         -4.6149e-02, -8.8683e-02,  3.4056e-02, -1.3636e-01, -8.3598e-02,\n",
            "          1.1435e-01, -1.3546e-01, -1.6326e-01,  1.2491e-01,  9.5909e-04,\n",
            "          1.0903e-02,  1.2512e-01, -1.5270e-01,  3.6442e-03,  7.1374e-04,\n",
            "          1.1800e-01, -1.7830e-01, -1.5106e-01,  9.7173e-02, -1.1419e-01,\n",
            "         -1.6048e-01, -2.0833e-01,  1.0620e-01,  6.4962e-03,  1.1853e-03],\n",
            "        [ 8.1439e-02, -1.5318e-02,  5.8559e-02, -1.2960e-01,  3.1120e-20,\n",
            "         -8.5958e-21,  3.6568e-22,  9.5795e-22, -7.3554e-12,  2.3924e-20,\n",
            "         -6.4263e-08, -2.0748e-02, -2.0109e-02, -4.6487e-02, -4.1480e-21,\n",
            "         -1.0227e-21, -1.3981e-21,  2.3951e-21, -8.1698e-22,  8.4734e-23,\n",
            "          8.6058e-02,  9.2951e-02, -1.0130e-01, -1.7075e-01,  1.0799e-16,\n",
            "         -3.1742e-11, -2.4128e-11,  5.3323e-21, -1.2649e-01, -6.1651e-21],\n",
            "        [-3.9758e-03, -7.5410e-03, -9.7983e-03, -1.5112e-02, -5.5063e-39,\n",
            "         -1.5642e-08, -1.4843e-02, -4.2308e-03,  5.5590e-04,  1.3044e-40,\n",
            "          3.9021e-02, -2.5005e-02, -2.5376e-02, -1.5250e-02,  1.4706e-39,\n",
            "          6.3547e-39,  2.4459e-39,  5.2988e-11, -2.1130e-41,  6.0286e-39,\n",
            "         -5.4659e-03, -1.1499e-02, -1.1867e-02, -1.8474e-02, -2.4841e-02,\n",
            "         -1.9580e-02,  1.4353e-03, -1.3005e-02, -1.4335e-02, -7.1454e-03]],\n",
            "       requires_grad=True)\n"
          ]
        }
      ]
    },
    {
      "cell_type": "code",
      "source": [
        "bias0 = params[1]\n",
        "bias0.shape"
      ],
      "metadata": {
        "colab": {
          "base_uri": "https://localhost:8080/"
        },
        "id": "HD9Yi2OWWQv9",
        "outputId": "54a7df02-7df1-4ac2-e285-3caf4401e451"
      },
      "execution_count": null,
      "outputs": [
        {
          "output_type": "execute_result",
          "data": {
            "text/plain": [
              "torch.Size([16])"
            ]
          },
          "metadata": {},
          "execution_count": 41
        }
      ]
    },
    {
      "cell_type": "code",
      "source": [
        "pesos1 = params[2]\n",
        "pesos1.shape"
      ],
      "metadata": {
        "colab": {
          "base_uri": "https://localhost:8080/"
        },
        "id": "FdE0ld3wWamF",
        "outputId": "68f55014-b029-43ba-f644-c42e80e294ff"
      },
      "execution_count": null,
      "outputs": [
        {
          "output_type": "execute_result",
          "data": {
            "text/plain": [
              "torch.Size([16, 16])"
            ]
          },
          "metadata": {},
          "execution_count": 42
        }
      ]
    },
    {
      "cell_type": "code",
      "source": [
        "bias1 = params[3]\n",
        "bias1.shape"
      ],
      "metadata": {
        "colab": {
          "base_uri": "https://localhost:8080/"
        },
        "id": "U4GbkGGjWfp3",
        "outputId": "3c4f9613-186d-4d6e-c8b7-752514a4d0fc"
      },
      "execution_count": null,
      "outputs": [
        {
          "output_type": "execute_result",
          "data": {
            "text/plain": [
              "torch.Size([16])"
            ]
          },
          "metadata": {},
          "execution_count": 46
        }
      ]
    },
    {
      "cell_type": "markdown",
      "source": [
        "## Avaliação do modelo"
      ],
      "metadata": {
        "id": "Dx1ZXovcW8At"
      }
    },
    {
      "cell_type": "code",
      "source": [
        "classificador.eval() # modo de avaliação"
      ],
      "metadata": {
        "colab": {
          "base_uri": "https://localhost:8080/"
        },
        "id": "sU7FrTIHW-jR",
        "outputId": "d3c25909-83f2-42a2-80f4-8afd3198432c"
      },
      "execution_count": null,
      "outputs": [
        {
          "output_type": "execute_result",
          "data": {
            "text/plain": [
              "Sequential(\n",
              "  (0): Linear(in_features=30, out_features=16, bias=True)\n",
              "  (1): ReLU()\n",
              "  (2): Linear(in_features=16, out_features=16, bias=True)\n",
              "  (3): ReLU()\n",
              "  (4): Linear(in_features=16, out_features=1, bias=True)\n",
              "  (5): Sigmoid()\n",
              ")"
            ]
          },
          "metadata": {},
          "execution_count": 47
        }
      ]
    },
    {
      "cell_type": "code",
      "source": [
        "type(previsores_teste)"
      ],
      "metadata": {
        "colab": {
          "base_uri": "https://localhost:8080/"
        },
        "id": "lB7kXhSkXObh",
        "outputId": "53a59f3c-fa61-4d8e-ff67-abd3f335e371"
      },
      "execution_count": null,
      "outputs": [
        {
          "output_type": "execute_result",
          "data": {
            "text/plain": [
              "pandas.core.frame.DataFrame"
            ]
          },
          "metadata": {},
          "execution_count": 48
        }
      ]
    },
    {
      "cell_type": "code",
      "source": [
        "previsores_teste = torch.tensor(np.array(previsores_teste), dtype=torch.float)"
      ],
      "metadata": {
        "id": "e74Tt_75XShn"
      },
      "execution_count": null,
      "outputs": []
    },
    {
      "cell_type": "code",
      "source": [
        "type(previsores_teste)"
      ],
      "metadata": {
        "colab": {
          "base_uri": "https://localhost:8080/"
        },
        "id": "_8RXh9FXXcn4",
        "outputId": "59f39506-d58a-47bd-f3da-71868cf56815"
      },
      "execution_count": null,
      "outputs": [
        {
          "output_type": "execute_result",
          "data": {
            "text/plain": [
              "torch.Tensor"
            ]
          },
          "metadata": {},
          "execution_count": 50
        }
      ]
    },
    {
      "cell_type": "code",
      "source": [
        "previsoes = classificador.forward(previsores_teste) #passa nos registros na rede neural"
      ],
      "metadata": {
        "id": "TS_Nj9ngXdpa"
      },
      "execution_count": null,
      "outputs": []
    },
    {
      "cell_type": "code",
      "source": [
        "previsoes"
      ],
      "metadata": {
        "colab": {
          "base_uri": "https://localhost:8080/"
        },
        "id": "GSZukWbIXq5n",
        "outputId": "701ac718-9d28-44d0-8469-5ae8d3dde70f"
      },
      "execution_count": null,
      "outputs": [
        {
          "output_type": "execute_result",
          "data": {
            "text/plain": [
              "tensor([[9.9015e-01],\n",
              "        [1.0000e+00],\n",
              "        [9.8388e-02],\n",
              "        [9.5560e-01],\n",
              "        [2.7106e-05],\n",
              "        [8.1492e-01],\n",
              "        [9.8330e-01],\n",
              "        [9.9999e-01],\n",
              "        [8.6186e-01],\n",
              "        [2.7503e-01],\n",
              "        [9.2974e-01],\n",
              "        [9.9850e-01],\n",
              "        [7.5576e-01],\n",
              "        [9.9318e-01],\n",
              "        [9.2663e-01],\n",
              "        [8.4756e-01],\n",
              "        [9.9375e-01],\n",
              "        [1.0000e+00],\n",
              "        [4.7329e-01],\n",
              "        [9.9946e-01],\n",
              "        [3.4904e-13],\n",
              "        [2.1142e-03],\n",
              "        [6.4750e-01],\n",
              "        [1.0000e+00],\n",
              "        [8.4581e-01],\n",
              "        [6.4335e-04],\n",
              "        [2.9777e-01],\n",
              "        [9.9999e-01],\n",
              "        [1.2475e-06],\n",
              "        [9.9776e-01],\n",
              "        [2.7111e-01],\n",
              "        [9.9999e-01],\n",
              "        [9.4465e-01],\n",
              "        [9.7372e-01],\n",
              "        [1.6834e-01],\n",
              "        [9.9844e-01],\n",
              "        [1.7211e-01],\n",
              "        [9.9944e-01],\n",
              "        [9.9456e-01],\n",
              "        [8.6755e-07],\n",
              "        [1.5663e-04],\n",
              "        [9.1585e-01],\n",
              "        [2.0162e-08],\n",
              "        [2.5825e-01],\n",
              "        [6.2254e-07],\n",
              "        [6.4018e-01],\n",
              "        [1.4515e-05],\n",
              "        [3.8094e-17],\n",
              "        [8.8484e-01],\n",
              "        [3.7102e-02],\n",
              "        [9.9279e-01],\n",
              "        [3.6534e-19],\n",
              "        [9.4686e-01],\n",
              "        [9.9077e-01],\n",
              "        [9.9203e-01],\n",
              "        [6.0231e-01],\n",
              "        [9.9959e-01],\n",
              "        [4.3762e-10],\n",
              "        [1.3249e-05],\n",
              "        [9.9967e-01],\n",
              "        [1.7569e-06],\n",
              "        [9.9610e-01],\n",
              "        [9.9663e-01],\n",
              "        [9.9894e-01],\n",
              "        [8.2231e-01],\n",
              "        [4.2268e-10],\n",
              "        [1.0000e+00],\n",
              "        [1.0000e+00],\n",
              "        [1.0000e+00],\n",
              "        [9.0787e-01],\n",
              "        [1.0000e+00],\n",
              "        [9.7595e-01],\n",
              "        [4.5662e-02],\n",
              "        [9.1678e-01],\n",
              "        [3.9224e-05],\n",
              "        [4.7737e-01],\n",
              "        [8.7430e-01],\n",
              "        [1.7759e-14],\n",
              "        [1.5906e-05],\n",
              "        [1.7289e-01],\n",
              "        [9.2472e-01],\n",
              "        [1.1928e-06],\n",
              "        [1.0229e-08],\n",
              "        [9.9205e-01],\n",
              "        [1.0000e+00],\n",
              "        [9.9999e-01],\n",
              "        [1.0066e-01],\n",
              "        [9.9388e-01],\n",
              "        [3.8243e-04],\n",
              "        [8.3307e-01],\n",
              "        [1.8110e-03],\n",
              "        [9.8006e-01],\n",
              "        [9.6786e-01],\n",
              "        [1.4902e-04],\n",
              "        [9.9590e-01],\n",
              "        [9.9994e-01],\n",
              "        [9.9965e-01],\n",
              "        [9.9968e-01],\n",
              "        [1.4302e-03],\n",
              "        [1.0000e+00],\n",
              "        [9.9990e-01],\n",
              "        [1.0000e+00],\n",
              "        [9.9786e-01],\n",
              "        [9.8764e-01],\n",
              "        [9.6543e-01],\n",
              "        [1.0000e+00],\n",
              "        [1.0000e+00],\n",
              "        [9.9834e-01],\n",
              "        [1.0000e+00],\n",
              "        [9.9682e-01],\n",
              "        [1.0000e+00],\n",
              "        [9.9559e-01],\n",
              "        [4.9728e-01],\n",
              "        [4.0982e-06],\n",
              "        [8.5624e-01],\n",
              "        [9.8335e-05],\n",
              "        [9.9847e-01],\n",
              "        [1.2133e-04],\n",
              "        [9.9787e-01],\n",
              "        [9.9266e-01],\n",
              "        [9.4796e-01],\n",
              "        [9.8421e-01],\n",
              "        [9.9977e-01],\n",
              "        [9.7981e-01],\n",
              "        [4.7788e-09],\n",
              "        [9.9134e-01],\n",
              "        [2.7791e-02],\n",
              "        [1.5405e-01],\n",
              "        [9.9988e-01],\n",
              "        [9.9912e-01],\n",
              "        [1.4261e-11],\n",
              "        [9.9257e-01],\n",
              "        [1.0000e+00],\n",
              "        [1.0011e-02],\n",
              "        [1.8025e-06],\n",
              "        [9.7277e-01],\n",
              "        [9.8517e-01],\n",
              "        [9.9982e-01],\n",
              "        [6.6964e-02],\n",
              "        [1.6119e-05],\n",
              "        [1.3399e-07],\n",
              "        [9.8837e-01],\n",
              "        [3.3315e-16]], grad_fn=<SigmoidBackward0>)"
            ]
          },
          "metadata": {},
          "execution_count": 52
        }
      ]
    },
    {
      "cell_type": "code",
      "source": [
        "previsoes = np.array(previsoes > 0.5)\n",
        "previsoes"
      ],
      "metadata": {
        "colab": {
          "base_uri": "https://localhost:8080/"
        },
        "id": "oSBW72zQXwT5",
        "outputId": "bd4354c1-e0ed-44ac-8cbc-41b5649ee9e6"
      },
      "execution_count": null,
      "outputs": [
        {
          "output_type": "execute_result",
          "data": {
            "text/plain": [
              "array([[ True],\n",
              "       [ True],\n",
              "       [False],\n",
              "       [ True],\n",
              "       [False],\n",
              "       [ True],\n",
              "       [ True],\n",
              "       [ True],\n",
              "       [ True],\n",
              "       [False],\n",
              "       [ True],\n",
              "       [ True],\n",
              "       [ True],\n",
              "       [ True],\n",
              "       [ True],\n",
              "       [ True],\n",
              "       [ True],\n",
              "       [ True],\n",
              "       [False],\n",
              "       [ True],\n",
              "       [False],\n",
              "       [False],\n",
              "       [ True],\n",
              "       [ True],\n",
              "       [ True],\n",
              "       [False],\n",
              "       [False],\n",
              "       [ True],\n",
              "       [False],\n",
              "       [ True],\n",
              "       [False],\n",
              "       [ True],\n",
              "       [ True],\n",
              "       [ True],\n",
              "       [False],\n",
              "       [ True],\n",
              "       [False],\n",
              "       [ True],\n",
              "       [ True],\n",
              "       [False],\n",
              "       [False],\n",
              "       [ True],\n",
              "       [False],\n",
              "       [False],\n",
              "       [False],\n",
              "       [ True],\n",
              "       [False],\n",
              "       [False],\n",
              "       [ True],\n",
              "       [False],\n",
              "       [ True],\n",
              "       [False],\n",
              "       [ True],\n",
              "       [ True],\n",
              "       [ True],\n",
              "       [ True],\n",
              "       [ True],\n",
              "       [False],\n",
              "       [False],\n",
              "       [ True],\n",
              "       [False],\n",
              "       [ True],\n",
              "       [ True],\n",
              "       [ True],\n",
              "       [ True],\n",
              "       [False],\n",
              "       [ True],\n",
              "       [ True],\n",
              "       [ True],\n",
              "       [ True],\n",
              "       [ True],\n",
              "       [ True],\n",
              "       [False],\n",
              "       [ True],\n",
              "       [False],\n",
              "       [False],\n",
              "       [ True],\n",
              "       [False],\n",
              "       [False],\n",
              "       [False],\n",
              "       [ True],\n",
              "       [False],\n",
              "       [False],\n",
              "       [ True],\n",
              "       [ True],\n",
              "       [ True],\n",
              "       [False],\n",
              "       [ True],\n",
              "       [False],\n",
              "       [ True],\n",
              "       [False],\n",
              "       [ True],\n",
              "       [ True],\n",
              "       [False],\n",
              "       [ True],\n",
              "       [ True],\n",
              "       [ True],\n",
              "       [ True],\n",
              "       [False],\n",
              "       [ True],\n",
              "       [ True],\n",
              "       [ True],\n",
              "       [ True],\n",
              "       [ True],\n",
              "       [ True],\n",
              "       [ True],\n",
              "       [ True],\n",
              "       [ True],\n",
              "       [ True],\n",
              "       [ True],\n",
              "       [ True],\n",
              "       [ True],\n",
              "       [False],\n",
              "       [False],\n",
              "       [ True],\n",
              "       [False],\n",
              "       [ True],\n",
              "       [False],\n",
              "       [ True],\n",
              "       [ True],\n",
              "       [ True],\n",
              "       [ True],\n",
              "       [ True],\n",
              "       [ True],\n",
              "       [False],\n",
              "       [ True],\n",
              "       [False],\n",
              "       [False],\n",
              "       [ True],\n",
              "       [ True],\n",
              "       [False],\n",
              "       [ True],\n",
              "       [ True],\n",
              "       [False],\n",
              "       [False],\n",
              "       [ True],\n",
              "       [ True],\n",
              "       [ True],\n",
              "       [False],\n",
              "       [False],\n",
              "       [False],\n",
              "       [ True],\n",
              "       [False]])"
            ]
          },
          "metadata": {},
          "execution_count": 53
        }
      ]
    },
    {
      "cell_type": "code",
      "source": [
        "taxa_acerto = accuracy_score(classe_teste, previsoes)\n",
        "taxa_acerto"
      ],
      "metadata": {
        "colab": {
          "base_uri": "https://localhost:8080/"
        },
        "id": "aMjO5ze4YFgJ",
        "outputId": "384c1107-7045-4233-b03b-2e80adca40bf"
      },
      "execution_count": null,
      "outputs": [
        {
          "output_type": "execute_result",
          "data": {
            "text/plain": [
              "0.8881118881118881"
            ]
          },
          "metadata": {},
          "execution_count": 57
        }
      ]
    },
    {
      "cell_type": "code",
      "source": [
        "matriz = confusion_matrix(classe_teste, previsoes)\n",
        "matriz"
      ],
      "metadata": {
        "colab": {
          "base_uri": "https://localhost:8080/"
        },
        "id": "PF3UpotTYkdG",
        "outputId": "9e1992b1-6380-4582-aedf-a4f59a103806"
      },
      "execution_count": null,
      "outputs": [
        {
          "output_type": "execute_result",
          "data": {
            "text/plain": [
              "array([[45,  9],\n",
              "       [ 7, 82]])"
            ]
          },
          "metadata": {},
          "execution_count": 58
        }
      ]
    },
    {
      "cell_type": "code",
      "source": [
        "sns.heatmap(matriz, annot=True);"
      ],
      "metadata": {
        "colab": {
          "base_uri": "https://localhost:8080/",
          "height": 430
        },
        "id": "GKVciR98Yra6",
        "outputId": "7b7fa438-99f4-4ae7-dd15-0bbbe1e0ea9a"
      },
      "execution_count": null,
      "outputs": [
        {
          "output_type": "display_data",
          "data": {
            "text/plain": [
              "<Figure size 640x480 with 2 Axes>"
            ],
            "image/png": "[encoded data removed]"
          },
          "metadata": {}
        }
      ]
    }
  ]
}